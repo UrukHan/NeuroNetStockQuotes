{
  "nbformat": 4,
  "nbformat_minor": 0,
  "metadata": {
    "colab": {
      "name": "AlphaVintageApi.ipynb",
      "provenance": [],
      "authorship_tag": "ABX9TyMetPQXN2FQ6dkusnSkMbne",
      "include_colab_link": true
    },
    "kernelspec": {
      "name": "python3",
      "display_name": "Python 3"
    }
  },
  "cells": [
    {
      "cell_type": "markdown",
      "metadata": {
        "id": "view-in-github",
        "colab_type": "text"
      },
      "source": [
        "<a href=\"https://colab.research.google.com/github/UrukHan/NeuroNetStockQuotes/blob/master/AlphaVintageApi.ipynb\" target=\"_parent\"><img src=\"https://colab.research.google.com/assets/colab-badge.svg\" alt=\"Open In Colab\"/></a>"
      ]
    },
    {
      "cell_type": "code",
      "metadata": {
        "id": "eI5sFx7sG6BS",
        "colab_type": "code",
        "colab": {
          "base_uri": "https://localhost:8080/",
          "height": 238
        },
        "outputId": "a9c6bd78-3e7a-4021-89f6-60e00ab4c528"
      },
      "source": [
        "!pip install alpha_vantage"
      ],
      "execution_count": 434,
      "outputs": [
        {
          "output_type": "stream",
          "text": [
            "Requirement already satisfied: alpha_vantage in /usr/local/lib/python3.6/dist-packages (2.2.0)\n",
            "Requirement already satisfied: aiohttp in /usr/local/lib/python3.6/dist-packages (from alpha_vantage) (3.6.2)\n",
            "Requirement already satisfied: requests in /usr/local/lib/python3.6/dist-packages (from alpha_vantage) (2.23.0)\n",
            "Requirement already satisfied: idna-ssl>=1.0; python_version < \"3.7\" in /usr/local/lib/python3.6/dist-packages (from aiohttp->alpha_vantage) (1.1.0)\n",
            "Requirement already satisfied: typing-extensions>=3.6.5; python_version < \"3.7\" in /usr/local/lib/python3.6/dist-packages (from aiohttp->alpha_vantage) (3.7.4.3)\n",
            "Requirement already satisfied: chardet<4.0,>=2.0 in /usr/local/lib/python3.6/dist-packages (from aiohttp->alpha_vantage) (3.0.4)\n",
            "Requirement already satisfied: yarl<2.0,>=1.0 in /usr/local/lib/python3.6/dist-packages (from aiohttp->alpha_vantage) (1.5.1)\n",
            "Requirement already satisfied: attrs>=17.3.0 in /usr/local/lib/python3.6/dist-packages (from aiohttp->alpha_vantage) (20.1.0)\n",
            "Requirement already satisfied: multidict<5.0,>=4.5 in /usr/local/lib/python3.6/dist-packages (from aiohttp->alpha_vantage) (4.7.6)\n",
            "Requirement already satisfied: async-timeout<4.0,>=3.0 in /usr/local/lib/python3.6/dist-packages (from aiohttp->alpha_vantage) (3.0.1)\n",
            "Requirement already satisfied: certifi>=2017.4.17 in /usr/local/lib/python3.6/dist-packages (from requests->alpha_vantage) (2020.6.20)\n",
            "Requirement already satisfied: urllib3!=1.25.0,!=1.25.1,<1.26,>=1.21.1 in /usr/local/lib/python3.6/dist-packages (from requests->alpha_vantage) (1.24.3)\n",
            "Requirement already satisfied: idna<3,>=2.5 in /usr/local/lib/python3.6/dist-packages (from requests->alpha_vantage) (2.10)\n"
          ],
          "name": "stdout"
        }
      ]
    },
    {
      "cell_type": "code",
      "metadata": {
        "id": "fT9BnswjG7r_",
        "colab_type": "code",
        "colab": {}
      },
      "source": [
        "import requests\n",
        "import json\n",
        "import time\n",
        "import numpy as np\n",
        "import matplotlib.pyplot as plt\n",
        "import pandas as pd\n",
        "import seaborn as sns\n",
        "\n",
        "from datetime import timedelta\n",
        "from google.colab import files\n",
        "from alpha_vantage.foreignexchange import ForeignExchange\n",
        "from alpha_vantage.timeseries import TimeSeries\n",
        "from datetime import datetime"
      ],
      "execution_count": 435,
      "outputs": []
    },
    {
      "cell_type": "code",
      "metadata": {
        "id": "7XmeEakMG7pt",
        "colab_type": "code",
        "colab": {
          "base_uri": "https://localhost:8080/",
          "height": 34
        },
        "outputId": "4b8dc27d-b9e4-4f9f-cfc8-6606edd838cb"
      },
      "source": [
        "# Очистить журналы от предыдущих вызовов\n",
        "!rm -rf ./logs/ \n",
        "!ls"
      ],
      "execution_count": 436,
      "outputs": [
        {
          "output_type": "stream",
          "text": [
            "CompaniesList.txt  forexQuotes.csv  sample_data  stockQuotes.csv\n"
          ],
          "name": "stdout"
        }
      ]
    },
    {
      "cell_type": "code",
      "metadata": {
        "id": "xJeWZGH6G7nk",
        "colab_type": "code",
        "colab": {}
      },
      "source": [
        "# Ввод ключа (IQLCQLXYBPW3LH7T)\n",
        "key = '8C5RUT8LNE2P0F4O' #input('Введите ключ доступа   -   ') "
      ],
      "execution_count": 437,
      "outputs": []
    },
    {
      "cell_type": "code",
      "metadata": {
        "id": "Hb6YI9tYL8re",
        "colab_type": "code",
        "colab": {}
      },
      "source": [
        "ts = TimeSeries(key = key)\n",
        "# listCompany = ['MSFT', 'CAT', 'BA', 'GS', 'HD'] \n",
        "\n",
        "with open('CompaniesList.txt') as f:\n",
        "  listTitleCompany = f.read()\n",
        "  listCompany = listTitleCompany.split(\" \")"
      ],
      "execution_count": 438,
      "outputs": []
    },
    {
      "cell_type": "code",
      "metadata": {
        "id": "qEg3F1ExG7k7",
        "colab_type": "code",
        "colab": {
          "base_uri": "https://localhost:8080/",
          "height": 1000
        },
        "outputId": "83872380-5dc5-4637-a190-83f871aef541"
      },
      "source": [
        "# Скачивание исторических данных котировок акций\n",
        "ts = TimeSeries(key = key, output_format = 'pandas')\n",
        "# Счетчик для задержки между запросами из за количественного их ограничения сервером за минуту\n",
        "pauseDownload = 0        \n",
        "for i in range (len(listCompany)):\n",
        "  # Обработка ошибок по API запросам\n",
        "  try:\n",
        "    # Задаем задержку по количеству запросов в минуту\n",
        "    if pauseDownload % 30 == 0 and pauseDownload != 0:        \n",
        "      time.sleep(61)\n",
        "    if pauseDownload == 0:\n",
        "      # Запрос данных через API\n",
        "      data, meta_data = ts.get_intraday(symbol = listCompany[i], interval = '5min', outputsize = 'full')  \n",
        "      # Преоброзование таблиц в нужный нам вид \n",
        "      data = data[['1. open', '5. volume']] \n",
        "      data.columns = [listCompany[i] + '-P',listCompany[i] + '-V']\n",
        "      if pauseDownload % 10 == 0 and pauseDownload != 0:\n",
        "        print(listCompany[i], data.shape[0], end = '\\n')\n",
        "      else:\n",
        "        print(listCompany[i], data.shape[0], end = '   ')\n",
        "    else:\n",
        "      dataConcat, meta_data = ts.get_intraday(symbol = listCompany[i],interval = '15min', outputsize = 'full')\n",
        "      dataConcat = dataConcat[['1. open', '5. volume']]\n",
        "      dataConcat.columns = [listCompany[i] + '-P',listCompany[i] + '-V']\n",
        "      if pauseDownload % 10 == 0 and pauseDownload != 0:\n",
        "        print(listCompany[i], dataConcat.shape, end = '\\n')\n",
        "      else:\n",
        "        print(listCompany[i], dataConcat.shape, end = '   ')\n",
        "      # Объединение таблиц\n",
        "      data = pd. concat([data, dataConcat], axis = 1)\n",
        "  except ValueError:\n",
        "    print(listCompany[i], \"Что-то пошло не так\")\n",
        "  pauseDownload += 1\n",
        "print(data)"
      ],
      "execution_count": 439,
      "outputs": [
        {
          "output_type": "stream",
          "text": [
            "MMM 1823   ABT (1143, 2)   ABBV (1243, 2)   ACN (882, 2)   ATVI (1368, 2)   ADBE (1178, 2)   ADT (1153, 2)   AAP (865, 2)   AET Что-то пошло не так\n",
            "AMG (786, 2)   AFL (919, 2)\n",
            "A (868, 2)   APD (839, 2)   ARG Что-то пошло не так\n",
            "AKAM (945, 2)   AA (1224, 2)   ALXN (884, 2)   ALLE (818, 2)   AGN Что-то пошло не так\n",
            "ADS (918, 2)   ALL (888, 2)\n",
            "GOOG (1095, 2)   MO (1296, 2)   AMZN (1540, 2)   AEP (907, 2)   AEE (837, 2)   AXP (1165, 2)   AIG (1167, 2)   AMT (869, 2)   AMP (844, 2)   ABC (862, 2)\n",
            "AME (823, 2)   AMGN (999, 2)   APH (825, 2)   APC Что-то пошло не так\n",
            "ADI (965, 2)   AAL (1912, 2)   ANTM (849, 2)   AON (843, 2)   APA (1397, 2)   AIV (828, 2)\n",
            "AAPL (1910, 2)   AMAT (1340, 2)   ADM (880, 2)   AIZ (827, 2)   T (1697, 2)   ADSK (928, 2)   ADP (922, 2)   AN (844, 2)   AZO (821, 2)   AVGO (1116, 2)\n",
            "AVB (838, 2)   AVY (824, 2)   BHI Что-то пошло не так\n",
            "BLL (862, 2)   BAC (1841, 2)   BXTL Что-то пошло не так\n",
            "BAX (852, 2)   BBT Что-то пошло не так\n",
            "BDX (899, 2)   BBBY (1213, 2)\n",
            "BRK-B (1319, 2)   BBY (1102, 2)   BIIB (942, 2)   BLK (875, 2)   BA (1838, 2)   BWA (879, 2)   BXP (837, 2)   BSX (901, 2)   BMY (1202, 2)   BRCM Что-то пошло не так\n",
            "BF-B (796, 2)   CA Что-то пошло не так\n",
            "CVC Что-то пошло не так\n",
            "COG (912, 2)   CAM Что-то пошло не так\n",
            "CPB (937, 2)   COF (972, 2)   CAH (882, 2)   KMX (872, 2)   CCL (1913, 2)\n",
            "CAT (1140, 2)   CBG Что-то пошло не так\n",
            "CBS Что-то пошло не так\n",
            "CELG Что-то пошло не так\n",
            "CNP (881, 2)   CERN (888, 2)   CF (935, 2)   CHRW (870, 2)   CHK Что-то пошло не так\n",
            "CVX (1385, 2)\n",
            "CMG (872, 2)   CI (863, 2)   XEC (823, 2)   CINF (830, 2)   CSCO (1710, 2)   C (1632, 2)   CTXS (894, 2)   CLX (985, 2)   CME (896, 2)   CMS (837, 2)\n",
            "COH Что-то пошло не так\n",
            "CCE Что-то пошло не так\n",
            "CTSH (930, 2)   CL (932, 2)   CPGX Что-то пошло не так\n",
            "CMCSA (1069, 2)   CMA (864, 2)   CSC Что-то пошло не так\n",
            "CAG (882, 2)   COP (1166, 2)\n",
            "CNX (887, 2)   ED (924, 2)   STZ (888, 2)   GLW (1017, 2)   COST (1064, 2)   BCR Что-то пошло не так\n",
            "CCI (888, 2)   CMI (881, 2)   CVS (1332, 2)   DHR (896, 2)\n",
            "DRI (1000, 2)   DVA (853, 2)   DE (999, 2)   DLPH (813, 2)   DAL (1823, 2)   XRAY (864, 2)   DVN (1206, 2)   DO Что-то пошло не так\n",
            "DFS (993, 2)   DISCK (847, 2)\n",
            "DISCA (901, 2)   DG (1004, 2)   DLTR (1037, 2)   D (938, 2)   DOV (831, 2)   DHI (1075, 2)   DPS Что-то пошло не так\n",
            "DTE (828, 2)   DUK (984, 2)   DNB (795, 2)\n",
            "ETFC (852, 2)   EMN (834, 2)   ETN (867, 2)   EBAY (1201, 2)   ECL (846, 2)   EIX (869, 2)   EW (895, 2)   DD (1107, 2)   EA (971, 2)   LLY (992, 2)\n",
            "EMC Что-то пошло не так\n",
            "EMR (949, 2)   ENDP (973, 2)   ESV Что-то пошло не так\n",
            "ETR (823, 2)   EOG (1060, 2)   EQT (928, 2)   EFX (819, 2)   EQIX (839, 2)   EQR (874, 2)\n",
            "EES (644, 2)   EL (879, 2)   ES (826, 2)   EXC (983, 2)   EXPE (1058, 2)   EXPD (862, 2)   ESRX Что-то пошло не так\n",
            "XOM (1726, 2)   FFIV (858, 2)   FB (1788, 2)\n",
            "FAST (935, 2)   FDX (1201, 2)   FIS (858, 2)   FITB (940, 2)   FSLR (981, 2)   FE (1063, 2)   FISV (1024, 2)   FLIR (978, 2)   FLS (829, 2)   FLR (942, 2)\n",
            "FMC (828, 2)   FTI (1074, 2)   F (1628, 2)   FOSL (950, 2)   BEN (883, 2)   FCX (1436, 2)   FTR Что-то пошло не так\n",
            "GME (1284, 2)   GPS (1208, 2)   GRMN (845, 2)\n",
            "GD (878, 2)   GE (1802, 2)   GIS (914, 2)   GM (1527, 2)   GGP Что-то пошло не так\n",
            "GPC (824, 2)   GNW (1028, 2)   GILD (1539, 2)   GS (1267, 2)   GT (988, 2)\n",
            "GOOGL (1097, 2)   HRB (978, 2)   HAL (1309, 2)   HBI (992, 2)   HOG (896, 2)   HAR Что-то пошло не так\n",
            "HRS Что-то пошло не так\n",
            "HIG (870, 2)   HAS (842, 2)   HCA (838, 2)\n",
            "HCP Что-то пошло не так\n",
            "HCN Что-то пошло не так\n",
            "HP (921, 2)   HSIC (834, 2)   HSY (850, 2)   HES (929, 2)   HPQ (1152, 2)   HON (1064, 2)   HRL (878, 2)   HST (907, 2)\n",
            "HCBK Что-то пошло не так\n",
            "HUM (839, 2)   HBAN (966, 2)   ITW (832, 2)   IR (853, 2)   INTC (1896, 2)   ICE (909, 2)   IBM (1227, 2)   IFF (929, 2)   IP (938, 2)\n",
            "IPG (853, 2)   INTU (912, 2)   ISRG (866, 2)   IVZ (988, 2)   IRM (972, 2)   JBHT (884, 2)   JEC Что-то пошло не так\n",
            "JNJ (1311, 2)   JCI (897, 2)   JOY Что-то пошло не так\n",
            "JPM (1644, 2)   JNPR (900, 2)   KSU (904, 2)   K (886, 2)   GMCR Что-то пошло не так\n",
            "KEY (979, 2)   KMB (861, 2)   KIM (912, 2)   KMI (1191, 2)   KLAC (916, 2)\n",
            "KSS (1425, 2)   KR (1193, 2)   LB (1099, 2)   LLL Что-то пошло не так\n",
            "LH (856, 2)   LRCX (1039, 2)   LM Что-то пошло не так\n",
            "LEG (838, 2)   LEN (963, 2)   LUK Что-то пошло не так\n",
            "LVLT Что-то пошло не так\n",
            "LNC (893, 2)   LLTC Что-то пошло не так\n",
            "LMT (936, 2)   L (869, 2)   LOW (1260, 2)   LYB (875, 2)   MTB (848, 2)   MAC (1310, 2)   M (1725, 2)\n",
            "MNK (1330, 2)   MRO (1530, 2)   MPC (1298, 2)   MAR (1186, 2)   MMC (839, 2)   MLM (834, 2)   MAS (846, 2)   MA (1104, 2)   MAT (848, 2)   MKC (833, 2)\n",
            "MCD (1082, 2)   MHFI Что-то пошло не так\n",
            "MCK (910, 2)   MJN Что-то пошло не так\n",
            "MDT (999, 2)   MRK (1188, 2)   MET (1024, 2)   KORS Что-то пошло не так\n",
            "MCHP (951, 2)   MU (1690, 2)\n",
            "MSFT (1884, 2)   MHK (852, 2)   TAP (896, 2)   MDLZ (968, 2)   MON Что-то пошло не так\n",
            "MNST (923, 2)   MCO (829, 2)   MSI (844, 2)   MUR (977, 2)   MYL (1029, 2)\n",
            "NDAQ (859, 2)   NOV (911, 2)   NAVI (947, 2)   NTAP (998, 2)   NFLX (1455, 2)   NWL (932, 2)   NFX Что-то пошло не так\n",
            "NEM (1362, 2)   NWSA (849, 2)   NEE (888, 2)\n",
            "GAS Что-то пошло не так\n",
            "NLSN (860, 2)   NKE (1221, 2)   NI (850, 2)   NBL (1052, 2)   JWN (1475, 2)   NSC (856, 2)   NTRS (837, 2)   NOC (862, 2)   NRG (899, 2)\n",
            "NUE (907, 2)   NVDA (1758, 2)   ORLY (826, 2)   OXY (1831, 2)   OMC (840, 2)   OKE (1124, 2)   ORCL (1283, 2)   OI (803, 2)   PCAR (860, 2)   PH (837, 2)\n",
            "PDCO (817, 2)   PAYX (894, 2)   PYPL (1484, 2)   PNR (823, 2)   PBCT (970, 2)   POM Что-то пошло не так\n",
            "PEP (1038, 2)   PKI (846, 2)   PRGO (913, 2)   PFE (1683, 2)\n",
            "PCG (1336, 2)   PM (951, 2)   PSX (1127, 2)   PNW (838, 2)   PXD (877, 2)   PBI (1090, 2)   PCL Что-то пошло не так\n",
            "PNC (908, 2)   PPG (855, 2)   PPL (976, 2)\n",
            "PX Что-то пошло не так\n",
            "PCP Что-то пошло не так\n",
            "PCLN Что-то пошло не так\n",
            "PFG (855, 2)   PG (1064, 2)   PGR (857, 2)   PLD (892, 2)   PRU (999, 2)   PEG (853, 2)   PSA (832, 2)\n",
            "PHM (945, 2)   PVH (957, 2)   QRVO (1001, 2)   QCOM (1494, 2)   PWR (851, 2)   DGX (879, 2)   RL (945, 2)   RRC (1002, 2)   RTN Что-то пошло не так\n",
            "O (1010, 2)\n",
            "RHT Что-то пошло не так\n",
            "REGN (941, 2)   RF (985, 2)   RSG (843, 2)   RAI Что-то пошло не так\n",
            "RHI (824, 2)   ROK (818, 2)   COL Что-то пошло не так\n",
            "ROP (822, 2)   ROST (947, 2)\n",
            "RCL (1669, 2)   R (825, 2)   CRM (1399, 2)   SNDK Что-то пошло не так\n",
            "SCG Что-то пошло не так\n",
            "SLB (1301, 2)   SCHW (1018, 2)   SNI Что-то пошло не так\n",
            "STX (1000, 2)   SEE (830, 2)\n",
            "SRE (844, 2)   SHW (837, 2)   SIAL Что-то пошло не так\n",
            "SIG (976, 2)   SPG (1545, 2)   SWKS (1110, 2)   SNA (816, 2)   SO (978, 2)   LUV (1645, 2)   SWN (1222, 2)\n",
            "SE (1506, 2)   STJ Что-то пошло не так\n",
            "SWK (843, 2)   SPLS Что-то пошло не так\n",
            "SBUX (1388, 2)   HOT Что-то пошло не так\n",
            "STT (846, 2)   SRCL (814, 2)   SYK (852, 2)   STI Что-то пошло не так\n",
            "SYMC Что-то пошло не так\n",
            "SYY (961, 2)   TROW (853, 2)   TGT (1173, 2)   TEL (831, 2)   TE Что-то пошло не так\n",
            "TGNA (854, 2)   THC (875, 2)   TDC (855, 2)   TSO Что-то пошло не так\n",
            "TXN (1025, 2)   TXT (839, 2)   AES (909, 2)   BK (945, 2)   CB (831, 2)   KO (1501, 2)   DOW (1138, 2)   HD (1322, 2)   SJM (859, 2)   KHC (1225, 2)\n",
            "TMO (891, 2)   TIF (929, 2)   TWX Что-то пошло не так\n",
            "TWC Что-то пошло не так\n",
            "TJX (1119, 2)   TMK Что-то пошло не так\n",
            "TSS Что-то пошло не так\n",
            "TSCO (875, 2)   RIG (1537, 2)   TRV (937, 2)\n",
            "TRIP (1049, 2)   FOXA (931, 2)   TYC Что-то пошло не так\n",
            "TSN (966, 2)   UA (1174, 2)   UNP (914, 2)   UAL (1801, 2)   UPS (1159, 2)   URI (882, 2)   UTX Что-то пошло не так\n",
            "UNH (1025, 2)   UHS (825, 2)   UNM (913, 2)   URBN (919, 2)   USB (1060, 2)   VLO (1196, 2)   VAR (868, 2)   VTR (899, 2)   VRSN (869, 2)   VZ (1300, 2)\n",
            "VRTX (899, 2)   VFC (889, 2)   VIAB Что-то пошло не так\n",
            "V (1361, 2)   VNO (868, 2)   VMC (839, 2)   GWW (819, 2)   WMT (1568, 2)   WBA (1284, 2)   DIS (1541, 2)\n",
            "WM (898, 2)   WAT (815, 2)   WFC (1773, 2)   WDC (1430, 2)   WU (868, 2)   WRK (927, 2)   WY (911, 2)   WHR (854, 2)   WFM Что-то пошло не так\n",
            "WMB (960, 2)\n",
            "WEC (823, 2)   WYN Что-то пошло не так\n",
            "WYNN (1421, 2)   XEL (882, 2)   XRX (1070, 2)   XLNX (1044, 2)   XL Что-то пошло не так\n",
            "XYL (830, 2)   YHOO Что-то пошло не так\n",
            "YUM (884, 2)\n",
            "ZION (861, 2)   ZTS (856, 2)                         MMM-P  MMM-V  ABT-P  ABT-V  ...  ZION-P  ZION-V  ZTS-P  ZTS-V\n",
            "date                                              ...                              \n",
            "2020-07-31 04:15:00     NaN    NaN    NaN    NaN  ...     NaN     NaN    NaN    NaN\n",
            "2020-07-31 04:30:00     NaN    NaN    NaN    NaN  ...     NaN     NaN    NaN    NaN\n",
            "2020-07-31 04:45:00     NaN    NaN    NaN    NaN  ...     NaN     NaN    NaN    NaN\n",
            "2020-07-31 05:00:00     NaN    NaN    NaN    NaN  ...     NaN     NaN    NaN    NaN\n",
            "2020-07-31 05:15:00     NaN    NaN    NaN    NaN  ...     NaN     NaN    NaN    NaN\n",
            "...                     ...    ...    ...    ...  ...     ...     ...    ...    ...\n",
            "2020-09-11 19:00:00     NaN    NaN    NaN    NaN  ...     NaN     NaN    NaN    NaN\n",
            "2020-09-11 19:15:00     NaN    NaN    NaN    NaN  ...     NaN     NaN    NaN    NaN\n",
            "2020-09-11 19:30:00     NaN    NaN    NaN    NaN  ...     NaN     NaN    NaN    NaN\n",
            "2020-09-11 19:45:00     NaN    NaN    NaN    NaN  ...     NaN     NaN    NaN    NaN\n",
            "2020-09-11 20:00:00  166.17  100.0  104.6  100.0  ...     NaN     NaN    NaN    NaN\n",
            "\n",
            "[3153 rows x 832 columns]\n"
          ],
          "name": "stdout"
        }
      ]
    },
    {
      "cell_type": "code",
      "metadata": {
        "id": "zAbk-QcsSs8B",
        "colab_type": "code",
        "colab": {
          "base_uri": "https://localhost:8080/",
          "height": 391
        },
        "outputId": "6eb8681f-1351-494b-dd21-8e8c3e38b5e9"
      },
      "source": [
        "# Скачивание исторических данных курсов валют\n",
        "fe = ForeignExchange(key = key, output_format = 'pandas')\n",
        "listF = ['EUR', 'BTC', 'CHF', 'JPY', 'CNY', 'GBP', 'RUB']\n",
        "for i in listF:\n",
        "  # Обработка ошибок по API запросам\n",
        "  try:     \n",
        "    if i == listF[0]:\n",
        "      # Запрос данных через API\n",
        "      dataF, meta_dataF = fe.get_currency_exchange_intraday(from_symbol = i, to_symbol = 'USD', outputsize = 'full') \n",
        "      # Преоброзование таблиц в нужный нам вид \n",
        "      dataF = pd.DataFrame(dataF['1. open'])\n",
        "      dataF.columns = [i]\n",
        "    else:\n",
        "      dataConcatF, meta_dataF = fe.get_currency_exchange_intraday(from_symbol = i, to_symbol = 'USD', outputsize = 'full') \n",
        "      dataConcatF = pd.DataFrame(dataConcatF['1. open'])\n",
        "      dataConcatF.columns = [i]\n",
        "      dataF = pd. concat([dataF, dataConcatF], axis = 1)\n",
        "    print(i, dataF.shape[0])\n",
        "  except ValueError:\n",
        "    print(i, \"Что-то пошло не так\", end = \"\\n\")\n",
        "print(dataF)"
      ],
      "execution_count": 440,
      "outputs": [
        {
          "output_type": "stream",
          "text": [
            "EUR 237\n",
            "BTC Что-то пошло не так\n",
            "CHF 237\n",
            "JPY 237\n",
            "CNY 818\n",
            "GBP 818\n",
            "RUB 818\n",
            "                        EUR     CHF     JPY     CNY     GBP     RUB\n",
            "date                                                               \n",
            "2020-09-02 07:45:00     NaN     NaN     NaN  0.1465     NaN     NaN\n",
            "2020-09-02 08:00:00     NaN     NaN     NaN  0.1465     NaN     NaN\n",
            "2020-09-02 08:15:00     NaN     NaN     NaN  0.1465     NaN     NaN\n",
            "2020-09-02 08:30:00     NaN     NaN     NaN  0.1465     NaN     NaN\n",
            "2020-09-02 08:45:00     NaN     NaN     NaN  0.1465     NaN     NaN\n",
            "...                     ...     ...     ...     ...     ...     ...\n",
            "2020-09-14 18:30:00  1.1861  1.1014  0.0095     NaN  1.2858  0.0132\n",
            "2020-09-14 18:45:00  1.1863  1.1015  0.0095     NaN  1.2857  0.0132\n",
            "2020-09-14 19:00:00  1.1863  1.1014  0.0095     NaN  1.2854  0.0132\n",
            "2020-09-14 19:15:00  1.1865  1.1012  0.0095     NaN  1.2855  0.0132\n",
            "2020-09-14 19:30:00  1.1867  1.1012  0.0095     NaN  1.2861  0.0132\n",
            "\n",
            "[818 rows x 6 columns]\n"
          ],
          "name": "stdout"
        }
      ]
    },
    {
      "cell_type": "code",
      "metadata": {
        "id": "sV-I4Pw1f0t9",
        "colab_type": "code",
        "colab": {
          "base_uri": "https://localhost:8080/",
          "height": 34
        },
        "outputId": "307dba30-9e10-4a48-f84f-d6cbbbaab212"
      },
      "source": [
        "allData = pd. concat([data, dataF], axis = 1)\n",
        "allData.shape"
      ],
      "execution_count": 441,
      "outputs": [
        {
          "output_type": "execute_result",
          "data": {
            "text/plain": [
              "(3537, 838)"
            ]
          },
          "metadata": {
            "tags": []
          },
          "execution_count": 441
        }
      ]
    },
    {
      "cell_type": "code",
      "metadata": {
        "id": "-hM_Fl7dqG0C",
        "colab_type": "code",
        "colab": {
          "base_uri": "https://localhost:8080/",
          "height": 51
        },
        "outputId": "bab98b29-8c13-41fc-acfc-71b91f9de604"
      },
      "source": [
        "# Определение времени для выбрки времени\n",
        "dayStart = datetime.now() - timedelta(days = 4)\n",
        "dayStart = dayStart.replace(hour=4, minute=0, second=0, microsecond=0)\n",
        "dayEnd = datetime.now() - timedelta(days = 1)\n",
        "dayEnd = dayEnd.replace(hour=20, minute=0, second=0, microsecond=0)\n",
        "print(dayStart)\n",
        "print(dayEnd)"
      ],
      "execution_count": 442,
      "outputs": [
        {
          "output_type": "stream",
          "text": [
            "2020-09-10 04:00:00\n",
            "2020-09-13 20:00:00\n"
          ],
          "name": "stdout"
        }
      ]
    },
    {
      "cell_type": "code",
      "metadata": {
        "id": "Gtr9OnbodKbp",
        "colab_type": "code",
        "colab": {
          "base_uri": "https://localhost:8080/",
          "height": 34
        },
        "outputId": "5f34f332-ebd2-40a2-a47a-147fcf3de12f"
      },
      "source": [
        "# Изменяем формат даты в индексе и вырезаем по времени нужный отрезок\n",
        "#allData.set_index(allData.index.strftime(\"%H:%M %d-%m-%Y\"), inplace=True)\n",
        "allDataSlice = allData.loc[dayStart:dayEnd]\n",
        "allDataSlice.shape"
      ],
      "execution_count": 443,
      "outputs": [
        {
          "output_type": "execute_result",
          "data": {
            "text/plain": [
              "(286, 838)"
            ]
          },
          "metadata": {
            "tags": []
          },
          "execution_count": 443
        }
      ]
    },
    {
      "cell_type": "code",
      "metadata": {
        "id": "to-agTD02rL5",
        "colab_type": "code",
        "colab": {}
      },
      "source": [
        "# Заполнение пропущенных значений\n",
        "allDataSlice = allDataSlice.fillna(method='ffill')\n",
        "allDataSlice = allDataSlice.fillna(method='bfill')"
      ],
      "execution_count": 444,
      "outputs": []
    },
    {
      "cell_type": "code",
      "metadata": {
        "id": "yYf0FUR6dKqd",
        "colab_type": "code",
        "colab": {
          "base_uri": "https://localhost:8080/",
          "height": 235
        },
        "outputId": "10726e57-2ed8-4c12-9ace-4319cce22e9e"
      },
      "source": [
        "allDataSlice.iloc[250:255, 824:844]"
      ],
      "execution_count": 445,
      "outputs": [
        {
          "output_type": "execute_result",
          "data": {
            "text/html": [
              "<div>\n",
              "<style scoped>\n",
              "    .dataframe tbody tr th:only-of-type {\n",
              "        vertical-align: middle;\n",
              "    }\n",
              "\n",
              "    .dataframe tbody tr th {\n",
              "        vertical-align: top;\n",
              "    }\n",
              "\n",
              "    .dataframe thead th {\n",
              "        text-align: right;\n",
              "    }\n",
              "</style>\n",
              "<table border=\"1\" class=\"dataframe\">\n",
              "  <thead>\n",
              "    <tr style=\"text-align: right;\">\n",
              "      <th></th>\n",
              "      <th>XYL-P</th>\n",
              "      <th>XYL-V</th>\n",
              "      <th>YUM-P</th>\n",
              "      <th>YUM-V</th>\n",
              "      <th>ZION-P</th>\n",
              "      <th>ZION-V</th>\n",
              "      <th>ZTS-P</th>\n",
              "      <th>ZTS-V</th>\n",
              "      <th>EUR</th>\n",
              "      <th>CHF</th>\n",
              "      <th>JPY</th>\n",
              "      <th>CNY</th>\n",
              "      <th>GBP</th>\n",
              "      <th>RUB</th>\n",
              "    </tr>\n",
              "    <tr>\n",
              "      <th>date</th>\n",
              "      <th></th>\n",
              "      <th></th>\n",
              "      <th></th>\n",
              "      <th></th>\n",
              "      <th></th>\n",
              "      <th></th>\n",
              "      <th></th>\n",
              "      <th></th>\n",
              "      <th></th>\n",
              "      <th></th>\n",
              "      <th></th>\n",
              "      <th></th>\n",
              "      <th></th>\n",
              "      <th></th>\n",
              "    </tr>\n",
              "  </thead>\n",
              "  <tbody>\n",
              "    <tr>\n",
              "      <th>2020-09-11 15:20:00</th>\n",
              "      <td>84.445</td>\n",
              "      <td>24339.0</td>\n",
              "      <td>92.23</td>\n",
              "      <td>32630.0</td>\n",
              "      <td>31.33</td>\n",
              "      <td>32925.0</td>\n",
              "      <td>158.90</td>\n",
              "      <td>23070.0</td>\n",
              "      <td>1.1829</td>\n",
              "      <td>1.0995</td>\n",
              "      <td>0.0094</td>\n",
              "      <td>0.1463</td>\n",
              "      <td>1.2781</td>\n",
              "      <td>0.0133</td>\n",
              "    </tr>\n",
              "    <tr>\n",
              "      <th>2020-09-11 15:25:00</th>\n",
              "      <td>84.445</td>\n",
              "      <td>24339.0</td>\n",
              "      <td>92.23</td>\n",
              "      <td>32630.0</td>\n",
              "      <td>31.33</td>\n",
              "      <td>32925.0</td>\n",
              "      <td>158.90</td>\n",
              "      <td>23070.0</td>\n",
              "      <td>1.1829</td>\n",
              "      <td>1.0995</td>\n",
              "      <td>0.0094</td>\n",
              "      <td>0.1463</td>\n",
              "      <td>1.2781</td>\n",
              "      <td>0.0133</td>\n",
              "    </tr>\n",
              "    <tr>\n",
              "      <th>2020-09-11 15:30:00</th>\n",
              "      <td>84.520</td>\n",
              "      <td>37489.0</td>\n",
              "      <td>92.19</td>\n",
              "      <td>38879.0</td>\n",
              "      <td>31.32</td>\n",
              "      <td>26550.0</td>\n",
              "      <td>158.59</td>\n",
              "      <td>28739.0</td>\n",
              "      <td>1.1837</td>\n",
              "      <td>1.0998</td>\n",
              "      <td>0.0094</td>\n",
              "      <td>0.1463</td>\n",
              "      <td>1.2797</td>\n",
              "      <td>0.0133</td>\n",
              "    </tr>\n",
              "    <tr>\n",
              "      <th>2020-09-11 15:35:00</th>\n",
              "      <td>84.520</td>\n",
              "      <td>37489.0</td>\n",
              "      <td>92.19</td>\n",
              "      <td>38879.0</td>\n",
              "      <td>31.32</td>\n",
              "      <td>26550.0</td>\n",
              "      <td>158.59</td>\n",
              "      <td>28739.0</td>\n",
              "      <td>1.1837</td>\n",
              "      <td>1.0998</td>\n",
              "      <td>0.0094</td>\n",
              "      <td>0.1463</td>\n",
              "      <td>1.2797</td>\n",
              "      <td>0.0133</td>\n",
              "    </tr>\n",
              "    <tr>\n",
              "      <th>2020-09-11 15:40:00</th>\n",
              "      <td>84.520</td>\n",
              "      <td>37489.0</td>\n",
              "      <td>92.19</td>\n",
              "      <td>38879.0</td>\n",
              "      <td>31.32</td>\n",
              "      <td>26550.0</td>\n",
              "      <td>158.59</td>\n",
              "      <td>28739.0</td>\n",
              "      <td>1.1837</td>\n",
              "      <td>1.0998</td>\n",
              "      <td>0.0094</td>\n",
              "      <td>0.1463</td>\n",
              "      <td>1.2797</td>\n",
              "      <td>0.0133</td>\n",
              "    </tr>\n",
              "  </tbody>\n",
              "</table>\n",
              "</div>"
            ],
            "text/plain": [
              "                      XYL-P    XYL-V  YUM-P  ...     CNY     GBP     RUB\n",
              "date                                         ...                        \n",
              "2020-09-11 15:20:00  84.445  24339.0  92.23  ...  0.1463  1.2781  0.0133\n",
              "2020-09-11 15:25:00  84.445  24339.0  92.23  ...  0.1463  1.2781  0.0133\n",
              "2020-09-11 15:30:00  84.520  37489.0  92.19  ...  0.1463  1.2797  0.0133\n",
              "2020-09-11 15:35:00  84.520  37489.0  92.19  ...  0.1463  1.2797  0.0133\n",
              "2020-09-11 15:40:00  84.520  37489.0  92.19  ...  0.1463  1.2797  0.0133\n",
              "\n",
              "[5 rows x 14 columns]"
            ]
          },
          "metadata": {
            "tags": []
          },
          "execution_count": 445
        }
      ]
    },
    {
      "cell_type": "code",
      "metadata": {
        "id": "jgfV04BJ0Zzh",
        "colab_type": "code",
        "colab": {}
      },
      "source": [
        "allDataSliceTime = allDataSlice.query('index.dt.hour > 3 and index.dt.hour < 20')"
      ],
      "execution_count": 446,
      "outputs": []
    },
    {
      "cell_type": "code",
      "metadata": {
        "id": "-68SVL3U-jle",
        "colab_type": "code",
        "colab": {
          "base_uri": "https://localhost:8080/",
          "height": 34
        },
        "outputId": "8f773863-07c3-4b72-dca6-79b48e42af80"
      },
      "source": [
        "allDataSliceTime.shape"
      ],
      "execution_count": 447,
      "outputs": [
        {
          "output_type": "execute_result",
          "data": {
            "text/plain": [
              "(244, 838)"
            ]
          },
          "metadata": {
            "tags": []
          },
          "execution_count": 447
        }
      ]
    },
    {
      "cell_type": "code",
      "metadata": {
        "id": "XDXK2EqG8G3g",
        "colab_type": "code",
        "colab": {
          "base_uri": "https://localhost:8080/",
          "height": 272
        },
        "outputId": "aa0197c1-e763-407b-8848-526eb6d0f306"
      },
      "source": [
        "print(allDataSliceTime)"
      ],
      "execution_count": 448,
      "outputs": [
        {
          "output_type": "stream",
          "text": [
            "                      MMM-P  MMM-V  ABT-P  ...     CNY     GBP     RUB\n",
            "date                                       ...                        \n",
            "2020-09-10 04:00:00  164.96  185.0  106.2  ...  0.1462  1.3004  0.0132\n",
            "2020-09-10 04:15:00  164.96  185.0  106.2  ...  0.1462  1.3004  0.0132\n",
            "2020-09-10 04:30:00  164.96  185.0  106.2  ...  0.1462  1.3004  0.0132\n",
            "2020-09-10 04:45:00  164.96  185.0  106.2  ...  0.1462  1.3004  0.0132\n",
            "2020-09-10 05:00:00  164.96  185.0  106.2  ...  0.1462  1.3004  0.0132\n",
            "...                     ...    ...    ...  ...     ...     ...     ...\n",
            "2020-09-11 18:45:00  166.17  244.0  104.4  ...  0.1463  1.2788  0.0133\n",
            "2020-09-11 19:00:00  166.17  244.0  104.4  ...  0.1463  1.2793  0.0133\n",
            "2020-09-11 19:15:00  166.17  244.0  104.4  ...  0.1463  1.2791  0.0133\n",
            "2020-09-11 19:30:00  166.17  244.0  104.4  ...  0.1463  1.2792  0.0133\n",
            "2020-09-11 19:45:00  166.17  244.0  104.4  ...  0.1463  1.2799  0.0133\n",
            "\n",
            "[244 rows x 838 columns]\n"
          ],
          "name": "stdout"
        }
      ]
    },
    {
      "cell_type": "code",
      "metadata": {
        "id": "y9fTlhmicy_z",
        "colab_type": "code",
        "colab": {
          "base_uri": "https://localhost:8080/",
          "height": 17
        },
        "outputId": "22583f37-d836-4952-eef1-e23a2ff105e6"
      },
      "source": [
        "# Сохранение и скачивание данных\n",
        "allDataSliceTime.to_csv('stockQuotes.csv')\n",
        "files.download('stockQuotes.csv')"
      ],
      "execution_count": 449,
      "outputs": [
        {
          "output_type": "display_data",
          "data": {
            "application/javascript": [
              "\n",
              "    async function download(id, filename, size) {\n",
              "      if (!google.colab.kernel.accessAllowed) {\n",
              "        return;\n",
              "      }\n",
              "      const div = document.createElement('div');\n",
              "      const label = document.createElement('label');\n",
              "      label.textContent = `Downloading \"${filename}\": `;\n",
              "      div.appendChild(label);\n",
              "      const progress = document.createElement('progress');\n",
              "      progress.max = size;\n",
              "      div.appendChild(progress);\n",
              "      document.body.appendChild(div);\n",
              "\n",
              "      const buffers = [];\n",
              "      let downloaded = 0;\n",
              "\n",
              "      const channel = await google.colab.kernel.comms.open(id);\n",
              "      // Send a message to notify the kernel that we're ready.\n",
              "      channel.send({})\n",
              "\n",
              "      for await (const message of channel.messages) {\n",
              "        // Send a message to notify the kernel that we're ready.\n",
              "        channel.send({})\n",
              "        if (message.buffers) {\n",
              "          for (const buffer of message.buffers) {\n",
              "            buffers.push(buffer);\n",
              "            downloaded += buffer.byteLength;\n",
              "            progress.value = downloaded;\n",
              "          }\n",
              "        }\n",
              "      }\n",
              "      const blob = new Blob(buffers, {type: 'application/binary'});\n",
              "      const a = document.createElement('a');\n",
              "      a.href = window.URL.createObjectURL(blob);\n",
              "      a.download = filename;\n",
              "      div.appendChild(a);\n",
              "      a.click();\n",
              "      div.remove();\n",
              "    }\n",
              "  "
            ],
            "text/plain": [
              "<IPython.core.display.Javascript object>"
            ]
          },
          "metadata": {
            "tags": []
          }
        },
        {
          "output_type": "display_data",
          "data": {
            "application/javascript": [
              "download(\"download_72f4b3d1-cb0b-4a7f-9651-50b44bb19bf6\", \"stockQuotes.csv\", 1461641)"
            ],
            "text/plain": [
              "<IPython.core.display.Javascript object>"
            ]
          },
          "metadata": {
            "tags": []
          }
        }
      ]
    },
    {
      "cell_type": "code",
      "metadata": {
        "id": "PJGQ78s2czFU",
        "colab_type": "code",
        "colab": {}
      },
      "source": [
        ""
      ],
      "execution_count": 449,
      "outputs": []
    },
    {
      "cell_type": "code",
      "metadata": {
        "id": "NQ1iG0mAczDK",
        "colab_type": "code",
        "colab": {}
      },
      "source": [
        ""
      ],
      "execution_count": 449,
      "outputs": []
    },
    {
      "cell_type": "code",
      "metadata": {
        "id": "rHXzi1fqcy88",
        "colab_type": "code",
        "colab": {}
      },
      "source": [
        ""
      ],
      "execution_count": 449,
      "outputs": []
    },
    {
      "cell_type": "code",
      "metadata": {
        "id": "5zl-fYNQStJE",
        "colab_type": "code",
        "colab": {}
      },
      "source": [
        ""
      ],
      "execution_count": 449,
      "outputs": []
    },
    {
      "cell_type": "code",
      "metadata": {
        "id": "D6BWy4qhSs_G",
        "colab_type": "code",
        "colab": {}
      },
      "source": [
        ""
      ],
      "execution_count": 449,
      "outputs": []
    },
    {
      "cell_type": "code",
      "metadata": {
        "id": "Q8cjQ4HLyq3M",
        "colab_type": "code",
        "colab": {}
      },
      "source": [
        ""
      ],
      "execution_count": 449,
      "outputs": []
    },
    {
      "cell_type": "code",
      "metadata": {
        "id": "WFMAW5EeyqxB",
        "colab_type": "code",
        "colab": {}
      },
      "source": [
        ""
      ],
      "execution_count": 449,
      "outputs": []
    },
    {
      "cell_type": "code",
      "metadata": {
        "id": "sm2dtHIWyqrs",
        "colab_type": "code",
        "colab": {}
      },
      "source": [
        ""
      ],
      "execution_count": 449,
      "outputs": []
    }
  ]
}