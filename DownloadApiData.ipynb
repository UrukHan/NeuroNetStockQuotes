{
  "nbformat": 4,
  "nbformat_minor": 0,
  "metadata": {
    "colab": {
      "name": "DownloadApiData.ipynb",
      "provenance": [],
      "collapsed_sections": [],
      "authorship_tag": "ABX9TyMPWsXw7MXXaT0NSgzsNvGh",
      "include_colab_link": true
    },
    "kernelspec": {
      "name": "python3",
      "display_name": "Python 3"
    }
  },
  "cells": [
    {
      "cell_type": "markdown",
      "metadata": {
        "id": "view-in-github",
        "colab_type": "text"
      },
      "source": [
        "<a href=\"https://colab.research.google.com/github/UrukHan/NeuroNetStockQuotes/blob/master/DownloadApiData.ipynb\" target=\"_parent\"><img src=\"https://colab.research.google.com/assets/colab-badge.svg\" alt=\"Open In Colab\"/></a>"
      ]
    },
    {
      "cell_type": "markdown",
      "metadata": {
        "id": "u4_ue89ZsEfm",
        "colab_type": "text"
      },
      "source": [
        "### **Импорт библиотек**"
      ]
    },
    {
      "cell_type": "code",
      "metadata": {
        "id": "nTHlXYHpurIa",
        "colab_type": "code",
        "colab": {
          "base_uri": "https://localhost:8080/",
          "height": 238
        },
        "outputId": "24abb6ad-0f86-4586-e906-e995f3cc9021"
      },
      "source": [
        "!pip install alpha_vantage"
      ],
      "execution_count": 86,
      "outputs": [
        {
          "output_type": "stream",
          "text": [
            "Requirement already satisfied: alpha_vantage in /usr/local/lib/python3.6/dist-packages (2.2.0)\n",
            "Requirement already satisfied: requests in /usr/local/lib/python3.6/dist-packages (from alpha_vantage) (2.23.0)\n",
            "Requirement already satisfied: aiohttp in /usr/local/lib/python3.6/dist-packages (from alpha_vantage) (3.6.2)\n",
            "Requirement already satisfied: idna<3,>=2.5 in /usr/local/lib/python3.6/dist-packages (from requests->alpha_vantage) (2.10)\n",
            "Requirement already satisfied: urllib3!=1.25.0,!=1.25.1,<1.26,>=1.21.1 in /usr/local/lib/python3.6/dist-packages (from requests->alpha_vantage) (1.24.3)\n",
            "Requirement already satisfied: certifi>=2017.4.17 in /usr/local/lib/python3.6/dist-packages (from requests->alpha_vantage) (2020.6.20)\n",
            "Requirement already satisfied: chardet<4,>=3.0.2 in /usr/local/lib/python3.6/dist-packages (from requests->alpha_vantage) (3.0.4)\n",
            "Requirement already satisfied: multidict<5.0,>=4.5 in /usr/local/lib/python3.6/dist-packages (from aiohttp->alpha_vantage) (4.7.6)\n",
            "Requirement already satisfied: attrs>=17.3.0 in /usr/local/lib/python3.6/dist-packages (from aiohttp->alpha_vantage) (20.1.0)\n",
            "Requirement already satisfied: yarl<2.0,>=1.0 in /usr/local/lib/python3.6/dist-packages (from aiohttp->alpha_vantage) (1.5.1)\n",
            "Requirement already satisfied: idna-ssl>=1.0; python_version < \"3.7\" in /usr/local/lib/python3.6/dist-packages (from aiohttp->alpha_vantage) (1.1.0)\n",
            "Requirement already satisfied: async-timeout<4.0,>=3.0 in /usr/local/lib/python3.6/dist-packages (from aiohttp->alpha_vantage) (3.0.1)\n",
            "Requirement already satisfied: typing-extensions>=3.6.5; python_version < \"3.7\" in /usr/local/lib/python3.6/dist-packages (from aiohttp->alpha_vantage) (3.7.4.3)\n"
          ],
          "name": "stdout"
        }
      ]
    },
    {
      "cell_type": "code",
      "metadata": {
        "id": "EXxgTzzusDh4",
        "colab_type": "code",
        "colab": {}
      },
      "source": [
        "import requests\n",
        "import json\n",
        "import time\n",
        "import numpy as np\n",
        "import matplotlib.pyplot as plt\n",
        "import pandas as pd\n",
        "import seaborn as sns\n",
        "\n",
        "from alpha_vantage.timeseries import TimeSeries\n",
        "from datetime import datetime"
      ],
      "execution_count": 87,
      "outputs": []
    },
    {
      "cell_type": "code",
      "metadata": {
        "id": "SS3p0T7JvgOA",
        "colab_type": "code",
        "colab": {
          "base_uri": "https://localhost:8080/",
          "height": 34
        },
        "outputId": "f2c85ad3-79f0-4bba-d176-bdfd3706f8b2"
      },
      "source": [
        "# Clear logs from previous calls\n",
        "!rm -rf ./logs/ \n",
        "\n",
        "# Check\n",
        "!ls"
      ],
      "execution_count": 88,
      "outputs": [
        {
          "output_type": "stream",
          "text": [
            "CompaniesList.txt  sample_data\tTimeSeries.json\n"
          ],
          "name": "stdout"
        }
      ]
    },
    {
      "cell_type": "markdown",
      "metadata": {
        "id": "vzcfJc7fr90N",
        "colab_type": "text"
      },
      "source": [
        "### **Скачивание данных через API с https://www.alphavantage.co/**"
      ]
    },
    {
      "cell_type": "code",
      "metadata": {
        "id": "U_vuu9DroWbN",
        "colab_type": "code",
        "colab": {}
      },
      "source": [
        "# Ввод ключа (IQLCQLXYBPW3LH7T)\n",
        "key = 'IQLCQLXYBPW3LH7T' #input('Введите ключ доступа   -   ') "
      ],
      "execution_count": 89,
      "outputs": []
    },
    {
      "cell_type": "code",
      "metadata": {
        "id": "smBlQxz-sQZt",
        "colab_type": "code",
        "colab": {
          "base_uri": "https://localhost:8080/",
          "height": 34
        },
        "outputId": "2bc9a1fa-23b4-42c1-8a9c-8a8e23b20338"
      },
      "source": [
        "# Считывание в массив наименований компаний с .txt\n",
        "\"\"\"symbolCode = []\n",
        "with open('CompaniesList.txt') as f:\n",
        "    listTitleCompany = f.read()\n",
        "    symbolCode = listTitleCompany.split(\" \")\"\"\"\n",
        "symbolCode = ['BA', 'AXP', 'CAT', 'GS', 'HD', 'F', 'DAL', 'BAC', 'WFC', 'CPE']    \n",
        "print(symbolCode)"
      ],
      "execution_count": 90,
      "outputs": [
        {
          "output_type": "stream",
          "text": [
            "['BA', 'AXP', 'CAT', 'GS', 'HD', 'F', 'DAL', 'BAC', 'WFC', 'CPE']\n"
          ],
          "name": "stdout"
        }
      ]
    },
    {
      "cell_type": "code",
      "metadata": {
        "id": "e8zXOadVsQWm",
        "colab_type": "code",
        "colab": {
          "base_uri": "https://localhost:8080/",
          "height": 68
        },
        "outputId": "8f2ab440-67eb-4ae6-c08f-ce5853bbbf4c"
      },
      "source": [
        "# Скачивание и запись в Dictionary Базы Данных\n",
        "countCompany = len(symbolCode)\n",
        "stockQuotes = {}\n",
        "lengthDateBase = []\n",
        "# Задаем задержку т.к. сайт отдает данные по 5ти фирмам в минуту\n",
        "sleepFor = 0 \n",
        "ts = TimeSeries(key=key)\n",
        "for i in range (countCompany):\n",
        "    sleepFor += 1\n",
        "    if sleepFor % 5 == 0:\n",
        "        time.sleep(61)\n",
        "    # Запрос данных API\n",
        "    data, meta_data = ts.get_intraday(symbol=symbolCode[i],interval='60min', outputsize='full')\n",
        "\n",
        "    # Запись нужных параметров в массив\n",
        "    times = []\n",
        "    prices = []\n",
        "    for key, price in data.items():\n",
        "#        timeD = datetime.strptime(key, \"%Y-%m-%d %H:%M:%S\")\n",
        "        timeD = key\n",
        "        times.append(timeD)\n",
        "        prices.append(price['1. open'])\n",
        "    lengthDateBase.append(len(times))\n",
        "    timesPrices = [times, prices]\n",
        "    # Создание словаря\n",
        "    stockQuotes[symbolCode[i]] = timesPrices\n",
        "#    print(stockQuotes)\n",
        "# print(stockQuotes)\n",
        "print(symbolCode)\n",
        "print(max(lengthDateBase))\n",
        "print(len(symbolCode))\n"
      ],
      "execution_count": 91,
      "outputs": [
        {
          "output_type": "stream",
          "text": [
            "['BA', 'AXP', 'CAT', 'GS', 'HD', 'F', 'DAL', 'BAC', 'WFC', 'CPE']\n",
            "640\n",
            "10\n"
          ],
          "name": "stdout"
        }
      ]
    },
    {
      "cell_type": "markdown",
      "metadata": {
        "id": "lnT0CffrJJ-w",
        "colab_type": "text"
      },
      "source": [
        "### **Преоброзование данных в удобную для анализа форму**"
      ]
    },
    {
      "cell_type": "code",
      "metadata": {
        "id": "0URz0-RW2Oya",
        "colab_type": "code",
        "colab": {}
      },
      "source": [
        "# Создание копии Данных\n",
        "stockQuotesReserve = stockQuotes.copy() "
      ],
      "execution_count": 92,
      "outputs": []
    },
    {
      "cell_type": "code",
      "metadata": {
        "id": "670pFie07_dh",
        "colab_type": "code",
        "colab": {}
      },
      "source": [
        "pdStockQuotes = []\n",
        "for key, timePrice in stockQuotes.items():\n",
        "    times = timePrice[0]\n",
        "    prices = timePrice[1]\n",
        "    for i in range (len(times)):\n",
        "        \n",
        "        pdStockQuotes.append([key, times[i], prices[i]])"
      ],
      "execution_count": 93,
      "outputs": []
    },
    {
      "cell_type": "code",
      "metadata": {
        "id": "7EEV47356-DT",
        "colab_type": "code",
        "colab": {}
      },
      "source": [
        "# Запись промежуточных данных в файл\n",
        "with open('TimeSeries.json', 'w') as f:\n",
        "    f.write(json.dumps(pdStockQuotes))"
      ],
      "execution_count": 94,
      "outputs": []
    },
    {
      "cell_type": "code",
      "metadata": {
        "id": "q275NwuY7EAe",
        "colab_type": "code",
        "colab": {
          "base_uri": "https://localhost:8080/",
          "height": 419
        },
        "outputId": "3cb6fc6a-4763-4bd8-f0e5-3c58c101bcc4"
      },
      "source": [
        "AllDataBase = pd.read_json('/content/TimeSeries.json')\n",
        "AllDataBase.columns = ['Company', 'DataTime', 'Price']\n",
        "#AllDataBase = AllDataBase.sort_values(by=['DateTime'], ascending=False)\n",
        "AllDataBase"
      ],
      "execution_count": 95,
      "outputs": [
        {
          "output_type": "execute_result",
          "data": {
            "text/html": [
              "<div>\n",
              "<style scoped>\n",
              "    .dataframe tbody tr th:only-of-type {\n",
              "        vertical-align: middle;\n",
              "    }\n",
              "\n",
              "    .dataframe tbody tr th {\n",
              "        vertical-align: top;\n",
              "    }\n",
              "\n",
              "    .dataframe thead th {\n",
              "        text-align: right;\n",
              "    }\n",
              "</style>\n",
              "<table border=\"1\" class=\"dataframe\">\n",
              "  <thead>\n",
              "    <tr style=\"text-align: right;\">\n",
              "      <th></th>\n",
              "      <th>Company</th>\n",
              "      <th>DataTime</th>\n",
              "      <th>Price</th>\n",
              "    </tr>\n",
              "  </thead>\n",
              "  <tbody>\n",
              "    <tr>\n",
              "      <th>0</th>\n",
              "      <td>BA</td>\n",
              "      <td>2020-08-28 20:00:00</td>\n",
              "      <td>175.7000</td>\n",
              "    </tr>\n",
              "    <tr>\n",
              "      <th>1</th>\n",
              "      <td>BA</td>\n",
              "      <td>2020-08-28 19:00:00</td>\n",
              "      <td>175.8600</td>\n",
              "    </tr>\n",
              "    <tr>\n",
              "      <th>2</th>\n",
              "      <td>BA</td>\n",
              "      <td>2020-08-28 18:00:00</td>\n",
              "      <td>175.6600</td>\n",
              "    </tr>\n",
              "    <tr>\n",
              "      <th>3</th>\n",
              "      <td>BA</td>\n",
              "      <td>2020-08-28 17:00:00</td>\n",
              "      <td>175.8000</td>\n",
              "    </tr>\n",
              "    <tr>\n",
              "      <th>4</th>\n",
              "      <td>BA</td>\n",
              "      <td>2020-08-28 16:00:00</td>\n",
              "      <td>175.6600</td>\n",
              "    </tr>\n",
              "    <tr>\n",
              "      <th>...</th>\n",
              "      <td>...</td>\n",
              "      <td>...</td>\n",
              "      <td>...</td>\n",
              "    </tr>\n",
              "    <tr>\n",
              "      <th>5807</th>\n",
              "      <td>CPE</td>\n",
              "      <td>2020-07-06 09:00:00</td>\n",
              "      <td>1.2099</td>\n",
              "    </tr>\n",
              "    <tr>\n",
              "      <th>5808</th>\n",
              "      <td>CPE</td>\n",
              "      <td>2020-07-06 08:00:00</td>\n",
              "      <td>1.2100</td>\n",
              "    </tr>\n",
              "    <tr>\n",
              "      <th>5809</th>\n",
              "      <td>CPE</td>\n",
              "      <td>2020-07-06 07:00:00</td>\n",
              "      <td>1.2000</td>\n",
              "    </tr>\n",
              "    <tr>\n",
              "      <th>5810</th>\n",
              "      <td>CPE</td>\n",
              "      <td>2020-07-06 06:00:00</td>\n",
              "      <td>1.2200</td>\n",
              "    </tr>\n",
              "    <tr>\n",
              "      <th>5811</th>\n",
              "      <td>CPE</td>\n",
              "      <td>2020-07-06 05:00:00</td>\n",
              "      <td>1.1900</td>\n",
              "    </tr>\n",
              "  </tbody>\n",
              "</table>\n",
              "<p>5812 rows × 3 columns</p>\n",
              "</div>"
            ],
            "text/plain": [
              "     Company             DataTime     Price\n",
              "0         BA  2020-08-28 20:00:00  175.7000\n",
              "1         BA  2020-08-28 19:00:00  175.8600\n",
              "2         BA  2020-08-28 18:00:00  175.6600\n",
              "3         BA  2020-08-28 17:00:00  175.8000\n",
              "4         BA  2020-08-28 16:00:00  175.6600\n",
              "...      ...                  ...       ...\n",
              "5807     CPE  2020-07-06 09:00:00    1.2099\n",
              "5808     CPE  2020-07-06 08:00:00    1.2100\n",
              "5809     CPE  2020-07-06 07:00:00    1.2000\n",
              "5810     CPE  2020-07-06 06:00:00    1.2200\n",
              "5811     CPE  2020-07-06 05:00:00    1.1900\n",
              "\n",
              "[5812 rows x 3 columns]"
            ]
          },
          "metadata": {
            "tags": []
          },
          "execution_count": 95
        }
      ]
    },
    {
      "cell_type": "code",
      "metadata": {
        "id": "Is7P-VZqUoOh",
        "colab_type": "code",
        "colab": {
          "base_uri": "https://localhost:8080/",
          "height": 419
        },
        "outputId": "6fdeb7cf-9eea-47bf-acac-2391adcff6b1"
      },
      "source": [
        "allData = (AllDataBase\n",
        "       .pivot(index=\"DataTime\", columns=\"Company\", values=\"Price\")\n",
        "       .rename_axis(None, axis=1)\n",
        "       .reset_index())\n",
        "allData"
      ],
      "execution_count": 96,
      "outputs": [
        {
          "output_type": "execute_result",
          "data": {
            "text/html": [
              "<div>\n",
              "<style scoped>\n",
              "    .dataframe tbody tr th:only-of-type {\n",
              "        vertical-align: middle;\n",
              "    }\n",
              "\n",
              "    .dataframe tbody tr th {\n",
              "        vertical-align: top;\n",
              "    }\n",
              "\n",
              "    .dataframe thead th {\n",
              "        text-align: right;\n",
              "    }\n",
              "</style>\n",
              "<table border=\"1\" class=\"dataframe\">\n",
              "  <thead>\n",
              "    <tr style=\"text-align: right;\">\n",
              "      <th></th>\n",
              "      <th>DataTime</th>\n",
              "      <th>AXP</th>\n",
              "      <th>BA</th>\n",
              "      <th>BAC</th>\n",
              "      <th>CAT</th>\n",
              "      <th>CPE</th>\n",
              "      <th>DAL</th>\n",
              "      <th>F</th>\n",
              "      <th>GS</th>\n",
              "      <th>HD</th>\n",
              "      <th>WFC</th>\n",
              "    </tr>\n",
              "  </thead>\n",
              "  <tbody>\n",
              "    <tr>\n",
              "      <th>0</th>\n",
              "      <td>2020-07-06 05:00:00</td>\n",
              "      <td>95.50</td>\n",
              "      <td>185.15</td>\n",
              "      <td>23.78</td>\n",
              "      <td>NaN</td>\n",
              "      <td>1.1900</td>\n",
              "      <td>28.3500</td>\n",
              "      <td>6.07</td>\n",
              "      <td>NaN</td>\n",
              "      <td>NaN</td>\n",
              "      <td>26.000</td>\n",
              "    </tr>\n",
              "    <tr>\n",
              "      <th>1</th>\n",
              "      <td>2020-07-06 06:00:00</td>\n",
              "      <td>NaN</td>\n",
              "      <td>184.70</td>\n",
              "      <td>23.90</td>\n",
              "      <td>NaN</td>\n",
              "      <td>1.2200</td>\n",
              "      <td>28.5000</td>\n",
              "      <td>6.11</td>\n",
              "      <td>NaN</td>\n",
              "      <td>NaN</td>\n",
              "      <td>26.050</td>\n",
              "    </tr>\n",
              "    <tr>\n",
              "      <th>2</th>\n",
              "      <td>2020-07-06 07:00:00</td>\n",
              "      <td>97.00</td>\n",
              "      <td>185.15</td>\n",
              "      <td>23.95</td>\n",
              "      <td>NaN</td>\n",
              "      <td>1.2000</td>\n",
              "      <td>28.6500</td>\n",
              "      <td>6.12</td>\n",
              "      <td>202.370</td>\n",
              "      <td>NaN</td>\n",
              "      <td>26.100</td>\n",
              "    </tr>\n",
              "    <tr>\n",
              "      <th>3</th>\n",
              "      <td>2020-07-06 08:00:00</td>\n",
              "      <td>96.14</td>\n",
              "      <td>185.67</td>\n",
              "      <td>23.92</td>\n",
              "      <td>129.6500</td>\n",
              "      <td>1.2100</td>\n",
              "      <td>28.5100</td>\n",
              "      <td>6.15</td>\n",
              "      <td>202.710</td>\n",
              "      <td>252.0000</td>\n",
              "      <td>26.100</td>\n",
              "    </tr>\n",
              "    <tr>\n",
              "      <th>4</th>\n",
              "      <td>2020-07-06 09:00:00</td>\n",
              "      <td>96.00</td>\n",
              "      <td>184.10</td>\n",
              "      <td>23.80</td>\n",
              "      <td>130.9109</td>\n",
              "      <td>1.2099</td>\n",
              "      <td>28.4767</td>\n",
              "      <td>6.14</td>\n",
              "      <td>202.735</td>\n",
              "      <td>252.2398</td>\n",
              "      <td>25.890</td>\n",
              "    </tr>\n",
              "    <tr>\n",
              "      <th>...</th>\n",
              "      <td>...</td>\n",
              "      <td>...</td>\n",
              "      <td>...</td>\n",
              "      <td>...</td>\n",
              "      <td>...</td>\n",
              "      <td>...</td>\n",
              "      <td>...</td>\n",
              "      <td>...</td>\n",
              "      <td>...</td>\n",
              "      <td>...</td>\n",
              "      <td>...</td>\n",
              "    </tr>\n",
              "    <tr>\n",
              "      <th>635</th>\n",
              "      <td>2020-08-28 16:00:00</td>\n",
              "      <td>102.60</td>\n",
              "      <td>175.66</td>\n",
              "      <td>26.28</td>\n",
              "      <td>144.3500</td>\n",
              "      <td>7.0000</td>\n",
              "      <td>31.9100</td>\n",
              "      <td>6.93</td>\n",
              "      <td>209.110</td>\n",
              "      <td>286.4900</td>\n",
              "      <td>24.615</td>\n",
              "    </tr>\n",
              "    <tr>\n",
              "      <th>636</th>\n",
              "      <td>2020-08-28 17:00:00</td>\n",
              "      <td>102.54</td>\n",
              "      <td>175.80</td>\n",
              "      <td>26.30</td>\n",
              "      <td>143.6300</td>\n",
              "      <td>6.9800</td>\n",
              "      <td>31.9900</td>\n",
              "      <td>6.94</td>\n",
              "      <td>207.640</td>\n",
              "      <td>286.2900</td>\n",
              "      <td>24.690</td>\n",
              "    </tr>\n",
              "    <tr>\n",
              "      <th>637</th>\n",
              "      <td>2020-08-28 18:00:00</td>\n",
              "      <td>102.54</td>\n",
              "      <td>175.66</td>\n",
              "      <td>26.26</td>\n",
              "      <td>143.7100</td>\n",
              "      <td>6.9600</td>\n",
              "      <td>31.9800</td>\n",
              "      <td>6.93</td>\n",
              "      <td>207.740</td>\n",
              "      <td>286.2900</td>\n",
              "      <td>24.660</td>\n",
              "    </tr>\n",
              "    <tr>\n",
              "      <th>638</th>\n",
              "      <td>2020-08-28 19:00:00</td>\n",
              "      <td>102.50</td>\n",
              "      <td>175.86</td>\n",
              "      <td>26.26</td>\n",
              "      <td>NaN</td>\n",
              "      <td>NaN</td>\n",
              "      <td>31.9300</td>\n",
              "      <td>6.93</td>\n",
              "      <td>207.840</td>\n",
              "      <td>286.4900</td>\n",
              "      <td>24.660</td>\n",
              "    </tr>\n",
              "    <tr>\n",
              "      <th>639</th>\n",
              "      <td>2020-08-28 20:00:00</td>\n",
              "      <td>102.53</td>\n",
              "      <td>175.70</td>\n",
              "      <td>26.26</td>\n",
              "      <td>NaN</td>\n",
              "      <td>6.9900</td>\n",
              "      <td>31.9700</td>\n",
              "      <td>6.93</td>\n",
              "      <td>207.880</td>\n",
              "      <td>286.4400</td>\n",
              "      <td>24.660</td>\n",
              "    </tr>\n",
              "  </tbody>\n",
              "</table>\n",
              "<p>640 rows × 11 columns</p>\n",
              "</div>"
            ],
            "text/plain": [
              "                DataTime     AXP      BA  ...       GS        HD     WFC\n",
              "0    2020-07-06 05:00:00   95.50  185.15  ...      NaN       NaN  26.000\n",
              "1    2020-07-06 06:00:00     NaN  184.70  ...      NaN       NaN  26.050\n",
              "2    2020-07-06 07:00:00   97.00  185.15  ...  202.370       NaN  26.100\n",
              "3    2020-07-06 08:00:00   96.14  185.67  ...  202.710  252.0000  26.100\n",
              "4    2020-07-06 09:00:00   96.00  184.10  ...  202.735  252.2398  25.890\n",
              "..                   ...     ...     ...  ...      ...       ...     ...\n",
              "635  2020-08-28 16:00:00  102.60  175.66  ...  209.110  286.4900  24.615\n",
              "636  2020-08-28 17:00:00  102.54  175.80  ...  207.640  286.2900  24.690\n",
              "637  2020-08-28 18:00:00  102.54  175.66  ...  207.740  286.2900  24.660\n",
              "638  2020-08-28 19:00:00  102.50  175.86  ...  207.840  286.4900  24.660\n",
              "639  2020-08-28 20:00:00  102.53  175.70  ...  207.880  286.4400  24.660\n",
              "\n",
              "[640 rows x 11 columns]"
            ]
          },
          "metadata": {
            "tags": []
          },
          "execution_count": 96
        }
      ]
    },
    {
      "cell_type": "markdown",
      "metadata": {
        "id": "dNaaXgyZN4Dc",
        "colab_type": "text"
      },
      "source": [
        "## **Обработка и анализ данных**"
      ]
    },
    {
      "cell_type": "code",
      "metadata": {
        "id": "TOP8JUWuCHYN",
        "colab_type": "code",
        "colab": {
          "base_uri": "https://localhost:8080/",
          "height": 328
        },
        "outputId": "bf98b3b2-3e04-4e94-9d6c-d3ab2c0f5e87"
      },
      "source": [
        "# Проверка на отсутствующие значения\n",
        "allData_na = allData.isnull().sum()\n",
        "allData_na = allData_na.drop(allData_na[allData_na == 0].index).sort_values(ascending=False)\n",
        "missing_data = pd.DataFrame({'Missing Ratio' :allData_na})\n",
        "missing_data.iloc[0:10]"
      ],
      "execution_count": 97,
      "outputs": [
        {
          "output_type": "execute_result",
          "data": {
            "text/html": [
              "<div>\n",
              "<style scoped>\n",
              "    .dataframe tbody tr th:only-of-type {\n",
              "        vertical-align: middle;\n",
              "    }\n",
              "\n",
              "    .dataframe tbody tr th {\n",
              "        vertical-align: top;\n",
              "    }\n",
              "\n",
              "    .dataframe thead th {\n",
              "        text-align: right;\n",
              "    }\n",
              "</style>\n",
              "<table border=\"1\" class=\"dataframe\">\n",
              "  <thead>\n",
              "    <tr style=\"text-align: right;\">\n",
              "      <th></th>\n",
              "      <th>Missing Ratio</th>\n",
              "    </tr>\n",
              "  </thead>\n",
              "  <tbody>\n",
              "    <tr>\n",
              "      <th>CAT</th>\n",
              "      <td>144</td>\n",
              "    </tr>\n",
              "    <tr>\n",
              "      <th>AXP</th>\n",
              "      <td>130</td>\n",
              "    </tr>\n",
              "    <tr>\n",
              "      <th>HD</th>\n",
              "      <td>120</td>\n",
              "    </tr>\n",
              "    <tr>\n",
              "      <th>GS</th>\n",
              "      <td>106</td>\n",
              "    </tr>\n",
              "    <tr>\n",
              "      <th>CPE</th>\n",
              "      <td>40</td>\n",
              "    </tr>\n",
              "    <tr>\n",
              "      <th>F</th>\n",
              "      <td>36</td>\n",
              "    </tr>\n",
              "    <tr>\n",
              "      <th>WFC</th>\n",
              "      <td>9</td>\n",
              "    </tr>\n",
              "    <tr>\n",
              "      <th>DAL</th>\n",
              "      <td>2</td>\n",
              "    </tr>\n",
              "    <tr>\n",
              "      <th>BAC</th>\n",
              "      <td>1</td>\n",
              "    </tr>\n",
              "  </tbody>\n",
              "</table>\n",
              "</div>"
            ],
            "text/plain": [
              "     Missing Ratio\n",
              "CAT            144\n",
              "AXP            130\n",
              "HD             120\n",
              "GS             106\n",
              "CPE             40\n",
              "F               36\n",
              "WFC              9\n",
              "DAL              2\n",
              "BAC              1"
            ]
          },
          "metadata": {
            "tags": []
          },
          "execution_count": 97
        }
      ]
    },
    {
      "cell_type": "code",
      "metadata": {
        "id": "nkjZcFSuXaIZ",
        "colab_type": "code",
        "colab": {
          "base_uri": "https://localhost:8080/",
          "height": 51
        },
        "outputId": "df87e5a6-fa43-4567-c7cf-969f703d8da4"
      },
      "source": [
        "noneDataLabel = missing_data.index.values\n",
        "#noneDataCount = missing_data.reset_index(level = 0)['Missing Ratio'].values\n",
        "noneDataLabel"
      ],
      "execution_count": 98,
      "outputs": [
        {
          "output_type": "execute_result",
          "data": {
            "text/plain": [
              "array(['CAT', 'AXP', 'HD', 'GS', 'CPE', 'F', 'WFC', 'DAL', 'BAC'],\n",
              "      dtype=object)"
            ]
          },
          "metadata": {
            "tags": []
          },
          "execution_count": 98
        }
      ]
    },
    {
      "cell_type": "code",
      "metadata": {
        "id": "cYMMRx-ICHKr",
        "colab_type": "code",
        "colab": {
          "base_uri": "https://localhost:8080/",
          "height": 204
        },
        "outputId": "3f001842-3475-4a25-960d-e254a46907d7"
      },
      "source": [
        "# Заполнение отсутствующих значений\n",
        "allData = allData.fillna(method='ffill')\n",
        "allData = allData.fillna(method='bfill')\n",
        "allData.iloc[0:5]"
      ],
      "execution_count": 99,
      "outputs": [
        {
          "output_type": "execute_result",
          "data": {
            "text/html": [
              "<div>\n",
              "<style scoped>\n",
              "    .dataframe tbody tr th:only-of-type {\n",
              "        vertical-align: middle;\n",
              "    }\n",
              "\n",
              "    .dataframe tbody tr th {\n",
              "        vertical-align: top;\n",
              "    }\n",
              "\n",
              "    .dataframe thead th {\n",
              "        text-align: right;\n",
              "    }\n",
              "</style>\n",
              "<table border=\"1\" class=\"dataframe\">\n",
              "  <thead>\n",
              "    <tr style=\"text-align: right;\">\n",
              "      <th></th>\n",
              "      <th>DataTime</th>\n",
              "      <th>AXP</th>\n",
              "      <th>BA</th>\n",
              "      <th>BAC</th>\n",
              "      <th>CAT</th>\n",
              "      <th>CPE</th>\n",
              "      <th>DAL</th>\n",
              "      <th>F</th>\n",
              "      <th>GS</th>\n",
              "      <th>HD</th>\n",
              "      <th>WFC</th>\n",
              "    </tr>\n",
              "  </thead>\n",
              "  <tbody>\n",
              "    <tr>\n",
              "      <th>0</th>\n",
              "      <td>2020-07-06 05:00:00</td>\n",
              "      <td>95.50</td>\n",
              "      <td>185.15</td>\n",
              "      <td>23.78</td>\n",
              "      <td>129.6500</td>\n",
              "      <td>1.1900</td>\n",
              "      <td>28.3500</td>\n",
              "      <td>6.07</td>\n",
              "      <td>202.370</td>\n",
              "      <td>252.0000</td>\n",
              "      <td>26.00</td>\n",
              "    </tr>\n",
              "    <tr>\n",
              "      <th>1</th>\n",
              "      <td>2020-07-06 06:00:00</td>\n",
              "      <td>95.50</td>\n",
              "      <td>184.70</td>\n",
              "      <td>23.90</td>\n",
              "      <td>129.6500</td>\n",
              "      <td>1.2200</td>\n",
              "      <td>28.5000</td>\n",
              "      <td>6.11</td>\n",
              "      <td>202.370</td>\n",
              "      <td>252.0000</td>\n",
              "      <td>26.05</td>\n",
              "    </tr>\n",
              "    <tr>\n",
              "      <th>2</th>\n",
              "      <td>2020-07-06 07:00:00</td>\n",
              "      <td>97.00</td>\n",
              "      <td>185.15</td>\n",
              "      <td>23.95</td>\n",
              "      <td>129.6500</td>\n",
              "      <td>1.2000</td>\n",
              "      <td>28.6500</td>\n",
              "      <td>6.12</td>\n",
              "      <td>202.370</td>\n",
              "      <td>252.0000</td>\n",
              "      <td>26.10</td>\n",
              "    </tr>\n",
              "    <tr>\n",
              "      <th>3</th>\n",
              "      <td>2020-07-06 08:00:00</td>\n",
              "      <td>96.14</td>\n",
              "      <td>185.67</td>\n",
              "      <td>23.92</td>\n",
              "      <td>129.6500</td>\n",
              "      <td>1.2100</td>\n",
              "      <td>28.5100</td>\n",
              "      <td>6.15</td>\n",
              "      <td>202.710</td>\n",
              "      <td>252.0000</td>\n",
              "      <td>26.10</td>\n",
              "    </tr>\n",
              "    <tr>\n",
              "      <th>4</th>\n",
              "      <td>2020-07-06 09:00:00</td>\n",
              "      <td>96.00</td>\n",
              "      <td>184.10</td>\n",
              "      <td>23.80</td>\n",
              "      <td>130.9109</td>\n",
              "      <td>1.2099</td>\n",
              "      <td>28.4767</td>\n",
              "      <td>6.14</td>\n",
              "      <td>202.735</td>\n",
              "      <td>252.2398</td>\n",
              "      <td>25.89</td>\n",
              "    </tr>\n",
              "  </tbody>\n",
              "</table>\n",
              "</div>"
            ],
            "text/plain": [
              "              DataTime    AXP      BA    BAC  ...     F       GS        HD    WFC\n",
              "0  2020-07-06 05:00:00  95.50  185.15  23.78  ...  6.07  202.370  252.0000  26.00\n",
              "1  2020-07-06 06:00:00  95.50  184.70  23.90  ...  6.11  202.370  252.0000  26.05\n",
              "2  2020-07-06 07:00:00  97.00  185.15  23.95  ...  6.12  202.370  252.0000  26.10\n",
              "3  2020-07-06 08:00:00  96.14  185.67  23.92  ...  6.15  202.710  252.0000  26.10\n",
              "4  2020-07-06 09:00:00  96.00  184.10  23.80  ...  6.14  202.735  252.2398  25.89\n",
              "\n",
              "[5 rows x 11 columns]"
            ]
          },
          "metadata": {
            "tags": []
          },
          "execution_count": 99
        }
      ]
    },
    {
      "cell_type": "code",
      "metadata": {
        "id": "n0olyFV6cpbR",
        "colab_type": "code",
        "colab": {
          "base_uri": "https://localhost:8080/",
          "height": 49
        },
        "outputId": "5a005f82-3b30-403a-81c4-98a26c5b3d61"
      },
      "source": [
        "# Проверка на отсутствующие значения\n",
        "allData_na = allData.isnull().sum()\n",
        "allData_na = allData_na.drop(allData_na[allData_na == 0].index).sort_values(ascending=False)\n",
        "missing_data = pd.DataFrame({'Missing Ratio' :allData_na})\n",
        "missing_data.iloc[0:10]"
      ],
      "execution_count": 100,
      "outputs": [
        {
          "output_type": "execute_result",
          "data": {
            "text/html": [
              "<div>\n",
              "<style scoped>\n",
              "    .dataframe tbody tr th:only-of-type {\n",
              "        vertical-align: middle;\n",
              "    }\n",
              "\n",
              "    .dataframe tbody tr th {\n",
              "        vertical-align: top;\n",
              "    }\n",
              "\n",
              "    .dataframe thead th {\n",
              "        text-align: right;\n",
              "    }\n",
              "</style>\n",
              "<table border=\"1\" class=\"dataframe\">\n",
              "  <thead>\n",
              "    <tr style=\"text-align: right;\">\n",
              "      <th></th>\n",
              "      <th>Missing Ratio</th>\n",
              "    </tr>\n",
              "  </thead>\n",
              "  <tbody>\n",
              "  </tbody>\n",
              "</table>\n",
              "</div>"
            ],
            "text/plain": [
              "Empty DataFrame\n",
              "Columns: [Missing Ratio]\n",
              "Index: []"
            ]
          },
          "metadata": {
            "tags": []
          },
          "execution_count": 100
        }
      ]
    },
    {
      "cell_type": "code",
      "metadata": {
        "id": "lsfF1vAy8oA0",
        "colab_type": "code",
        "colab": {}
      },
      "source": [
        ""
      ],
      "execution_count": 100,
      "outputs": []
    },
    {
      "cell_type": "code",
      "metadata": {
        "id": "JaO6SfHD8oP3",
        "colab_type": "code",
        "colab": {}
      },
      "source": [
        ""
      ],
      "execution_count": 100,
      "outputs": []
    },
    {
      "cell_type": "code",
      "metadata": {
        "id": "XyRW1vgI8n8N",
        "colab_type": "code",
        "colab": {}
      },
      "source": [
        ""
      ],
      "execution_count": 100,
      "outputs": []
    },
    {
      "cell_type": "code",
      "metadata": {
        "id": "8M7rRrHE66Xe",
        "colab_type": "code",
        "colab": {}
      },
      "source": [
        ""
      ],
      "execution_count": 100,
      "outputs": []
    },
    {
      "cell_type": "code",
      "metadata": {
        "id": "avhRGhGv66LP",
        "colab_type": "code",
        "colab": {}
      },
      "source": [
        ""
      ],
      "execution_count": 100,
      "outputs": []
    },
    {
      "cell_type": "code",
      "metadata": {
        "id": "PuVzrJgZ10Rt",
        "colab_type": "code",
        "colab": {}
      },
      "source": [
        ""
      ],
      "execution_count": 100,
      "outputs": []
    },
    {
      "cell_type": "code",
      "metadata": {
        "id": "j8Un5omC10MV",
        "colab_type": "code",
        "colab": {}
      },
      "source": [
        ""
      ],
      "execution_count": 100,
      "outputs": []
    }
  ]
}