{
  "nbformat": 4,
  "nbformat_minor": 0,
  "metadata": {
    "colab": {
      "name": "PolinomialRegressionKerasTuner.ipynb",
      "provenance": [],
      "collapsed_sections": [],
      "toc_visible": true,
      "authorship_tag": "ABX9TyNil6TGa1WOs7Cff8B8UvZn",
      "include_colab_link": true
    },
    "kernelspec": {
      "name": "python3",
      "display_name": "Python 3"
    }
  },
  "cells": [
    {
      "cell_type": "markdown",
      "metadata": {
        "id": "view-in-github",
        "colab_type": "text"
      },
      "source": [
        "<a href=\"https://colab.research.google.com/github/UrukHan/NeuroNetStockQuotes/blob/master/PolinomialRegressionKerasTuner.ipynb\" target=\"_parent\"><img src=\"https://colab.research.google.com/assets/colab-badge.svg\" alt=\"Open In Colab\"/></a>"
      ]
    },
    {
      "cell_type": "markdown",
      "metadata": {
        "id": "Fbt9ViQkVF3d",
        "colab_type": "text"
      },
      "source": [
        "## **Импорт библиотек**"
      ]
    },
    {
      "cell_type": "code",
      "metadata": {
        "id": "YHOMovDPVB1p",
        "colab_type": "code",
        "colab": {
          "base_uri": "https://localhost:8080/",
          "height": 68
        },
        "outputId": "b471916c-2f21-4d39-e9f1-6aacacc352fd"
      },
      "source": [
        "# Импорт библиотек\n",
        "from tensorflow.python.keras.models import Sequential\n",
        "from tensorflow.python.keras.layers import Dense\n",
        "from tensorflow.python.keras import utils\n",
        "from tensorflow import keras\n",
        "from tensorflow.keras import layers\n",
        "from scipy import stats\n",
        "from scipy.stats import norm, skew\n",
        "from sklearn.model_selection import cross_val_score\n",
        "from sklearn.datasets import load_iris\n",
        "from sklearn.ensemble import RandomForestClassifier\n",
        "from sklearn import linear_model\n",
        "from sklearn import svm\n",
        "from sklearn.model_selection import KFold\n",
        "from sklearn.model_selection import cross_val_score\n",
        "from sklearn.model_selection import GridSearchCV\n",
        "from sklearn.tree import DecisionTreeRegressor\n",
        "from google.colab import files\n",
        "\n",
        "import numpy as np\n",
        "import matplotlib.pyplot as plt\n",
        "import pandas as pd\n",
        "import seaborn as sns\n",
        "import os\n",
        "\n",
        "\n",
        "%matplotlib inline \n",
        "\n",
        "try:\n",
        "  # %tensorflow_version only exists in Colab.\n",
        "  %tensorflow_version 2.x\n",
        "except Exception:\n",
        "  pass\n",
        "import tensorflow as tf\n",
        "from tensorflow import keras\n",
        "from tensorflow.keras import layers\n",
        "print(tf.__version__)\n",
        "\n",
        "# Load the TensorBoard notebook extension.\n",
        "%load_ext tensorboard"
      ],
      "execution_count": 3,
      "outputs": [
        {
          "output_type": "stream",
          "text": [
            "2.3.0\n"
          ],
          "name": "stdout"
        },
        {
          "output_type": "stream",
          "text": [
            "/usr/local/lib/python3.6/dist-packages/statsmodels/tools/_testing.py:19: FutureWarning: pandas.util.testing is deprecated. Use the functions in the public API at pandas.testing instead.\n",
            "  import pandas.util.testing as tm\n"
          ],
          "name": "stderr"
        }
      ]
    },
    {
      "cell_type": "code",
      "metadata": {
        "id": "ULnx_rKOXLXU",
        "colab_type": "code",
        "colab": {
          "base_uri": "https://localhost:8080/",
          "height": 34
        },
        "outputId": "26c0d15c-d4c6-4ade-fe69-9e48a40fee9f"
      },
      "source": [
        "# Clear logs from previous calls\n",
        "!rm -rf ./logs/ \n",
        "\n",
        "# Check\n",
        "!ls"
      ],
      "execution_count": 4,
      "outputs": [
        {
          "output_type": "stream",
          "text": [
            "sample_data\n"
          ],
          "name": "stdout"
        }
      ]
    },
    {
      "cell_type": "code",
      "metadata": {
        "id": "YcL0QeRPRQ68",
        "colab_type": "code",
        "colab": {}
      },
      "source": [
        "# Установка начальных значений для операций на основе хэша в python\n",
        "os.environ['PYTHONHASHSEED'] = '0'\n",
        "seed=1234\n",
        "\n",
        "# Установка numpy seed\n",
        "np.random.seed(seed)\n",
        "\n",
        "# Установка случайного начального числа в тензорном потоке на уровне графа\n",
        "tf.compat.v1.set_random_seed(seed)"
      ],
      "execution_count": 5,
      "outputs": []
    },
    {
      "cell_type": "markdown",
      "metadata": {
        "id": "Iof1UzfjV8Iq",
        "colab_type": "text"
      },
      "source": [
        "## **Загрузка данных**"
      ]
    },
    {
      "cell_type": "code",
      "metadata": {
        "id": "C7NMEAZ_Xned",
        "colab_type": "code",
        "colab": {
          "base_uri": "https://localhost:8080/",
          "height": 191
        },
        "outputId": "453cbffc-3dc4-4b1f-dd87-96f1315dcf1a"
      },
      "source": [
        "# Загрузка данных\n",
        "allData = pd.read_json('/content/stockQuotes.json')\n",
        "allData.iloc[:3]"
      ],
      "execution_count": 79,
      "outputs": [
        {
          "output_type": "execute_result",
          "data": {
            "text/html": [
              "<div>\n",
              "<style scoped>\n",
              "    .dataframe tbody tr th:only-of-type {\n",
              "        vertical-align: middle;\n",
              "    }\n",
              "\n",
              "    .dataframe tbody tr th {\n",
              "        vertical-align: top;\n",
              "    }\n",
              "\n",
              "    .dataframe thead th {\n",
              "        text-align: right;\n",
              "    }\n",
              "</style>\n",
              "<table border=\"1\" class=\"dataframe\">\n",
              "  <thead>\n",
              "    <tr style=\"text-align: right;\">\n",
              "      <th></th>\n",
              "      <th>AA</th>\n",
              "      <th>AES</th>\n",
              "      <th>AIG</th>\n",
              "      <th>APA</th>\n",
              "      <th>AUY</th>\n",
              "      <th>AXP</th>\n",
              "      <th>BA</th>\n",
              "      <th>BAC</th>\n",
              "      <th>BBVA</th>\n",
              "      <th>BK</th>\n",
              "      <th>BMY</th>\n",
              "      <th>BWA</th>\n",
              "      <th>C</th>\n",
              "      <th>CAT</th>\n",
              "      <th>CDE</th>\n",
              "      <th>CLF</th>\n",
              "      <th>CNP</th>\n",
              "      <th>COG</th>\n",
              "      <th>CPE</th>\n",
              "      <th>CVX</th>\n",
              "      <th>DAL</th>\n",
              "      <th>DNR</th>\n",
              "      <th>DVN</th>\n",
              "      <th>EMR</th>\n",
              "      <th>EQNR</th>\n",
              "      <th>EQT</th>\n",
              "      <th>F</th>\n",
              "      <th>FCX</th>\n",
              "      <th>FTI</th>\n",
              "      <th>GFI</th>\n",
              "      <th>GLW</th>\n",
              "      <th>GM</th>\n",
              "      <th>GOLD</th>\n",
              "      <th>GPS</th>\n",
              "      <th>GS</th>\n",
              "      <th>HAL</th>\n",
              "      <th>HD</th>\n",
              "      <th>HIG</th>\n",
              "      <th>HL</th>\n",
              "      <th>HOG</th>\n",
              "      <th>...</th>\n",
              "      <th>INFY</th>\n",
              "      <th>IVZ</th>\n",
              "      <th>JPM</th>\n",
              "      <th>KEY</th>\n",
              "      <th>KGC</th>\n",
              "      <th>KIM</th>\n",
              "      <th>KOS</th>\n",
              "      <th>KSS</th>\n",
              "      <th>LUV</th>\n",
              "      <th>LYG</th>\n",
              "      <th>MDT</th>\n",
              "      <th>MGM</th>\n",
              "      <th>MPC</th>\n",
              "      <th>MRO</th>\n",
              "      <th>MS</th>\n",
              "      <th>NE</th>\n",
              "      <th>NLY</th>\n",
              "      <th>NOV</th>\n",
              "      <th>OKE</th>\n",
              "      <th>OXY</th>\n",
              "      <th>PCG</th>\n",
              "      <th>QEP</th>\n",
              "      <th>RF</th>\n",
              "      <th>RIG</th>\n",
              "      <th>RRC</th>\n",
              "      <th>RWT</th>\n",
              "      <th>SAVE</th>\n",
              "      <th>SCHW</th>\n",
              "      <th>SLB</th>\n",
              "      <th>SPG</th>\n",
              "      <th>STT</th>\n",
              "      <th>SWN</th>\n",
              "      <th>TFC</th>\n",
              "      <th>TJX</th>\n",
              "      <th>USB</th>\n",
              "      <th>VER</th>\n",
              "      <th>WFC</th>\n",
              "      <th>WMB</th>\n",
              "      <th>X</th>\n",
              "      <th>XOM</th>\n",
              "    </tr>\n",
              "  </thead>\n",
              "  <tbody>\n",
              "    <tr>\n",
              "      <th>0</th>\n",
              "      <td>7.1230</td>\n",
              "      <td>11.3047</td>\n",
              "      <td>23.9400</td>\n",
              "      <td>5.6824</td>\n",
              "      <td>2.910</td>\n",
              "      <td>87.6466</td>\n",
              "      <td>131.555</td>\n",
              "      <td>21.1288</td>\n",
              "      <td>2.9712</td>\n",
              "      <td>30.1326</td>\n",
              "      <td>51.9017</td>\n",
              "      <td>23.7164</td>\n",
              "      <td>42.0176</td>\n",
              "      <td>96.0501</td>\n",
              "      <td>2.680</td>\n",
              "      <td>4.0417</td>\n",
              "      <td>12.7553</td>\n",
              "      <td>17.510</td>\n",
              "      <td>0.6100</td>\n",
              "      <td>70.6600</td>\n",
              "      <td>36.2451</td>\n",
              "      <td>0.3000</td>\n",
              "      <td>7.6032</td>\n",
              "      <td>47.7785</td>\n",
              "      <td>9.9041</td>\n",
              "      <td>8.7937</td>\n",
              "      <td>5.0721</td>\n",
              "      <td>6.4027</td>\n",
              "      <td>6.2026</td>\n",
              "      <td>4.6800</td>\n",
              "      <td>19.3631</td>\n",
              "      <td>21.5790</td>\n",
              "      <td>16.21</td>\n",
              "      <td>8.3836</td>\n",
              "      <td>156.9206</td>\n",
              "      <td>6.1326</td>\n",
              "      <td>168.2803</td>\n",
              "      <td>34.2243</td>\n",
              "      <td>1.700</td>\n",
              "      <td>21.0388</td>\n",
              "      <td>...</td>\n",
              "      <td>7.4231</td>\n",
              "      <td>8.9637</td>\n",
              "      <td>92.3286</td>\n",
              "      <td>10.2843</td>\n",
              "      <td>4.0800</td>\n",
              "      <td>10.8345</td>\n",
              "      <td>0.8004</td>\n",
              "      <td>19.3081</td>\n",
              "      <td>38.21</td>\n",
              "      <td>1.5907</td>\n",
              "      <td>79.2731</td>\n",
              "      <td>10.9246</td>\n",
              "      <td>20.8287</td>\n",
              "      <td>4.1517</td>\n",
              "      <td>32.3835</td>\n",
              "      <td>0.2801</td>\n",
              "      <td>6.9629</td>\n",
              "      <td>9.2639</td>\n",
              "      <td>25.02</td>\n",
              "      <td>12.39</td>\n",
              "      <td>9.5538</td>\n",
              "      <td>0.6403</td>\n",
              "      <td>8.4635</td>\n",
              "      <td>1.3206</td>\n",
              "      <td>2.8112</td>\n",
              "      <td>9.3939</td>\n",
              "      <td>12.1051</td>\n",
              "      <td>31.3681</td>\n",
              "      <td>14.5361</td>\n",
              "      <td>66.9900</td>\n",
              "      <td>49.1805</td>\n",
              "      <td>1.9208</td>\n",
              "      <td>28.2918</td>\n",
              "      <td>41.4655</td>\n",
              "      <td>33.3839</td>\n",
              "      <td>5.6223</td>\n",
              "      <td>27.5515</td>\n",
              "      <td>13.5757</td>\n",
              "      <td>5.4423</td>\n",
              "      <td>35.3148</td>\n",
              "    </tr>\n",
              "    <tr>\n",
              "      <th>1</th>\n",
              "      <td>6.9322</td>\n",
              "      <td>9.9900</td>\n",
              "      <td>21.0667</td>\n",
              "      <td>4.8215</td>\n",
              "      <td>3.345</td>\n",
              "      <td>85.1671</td>\n",
              "      <td>110.215</td>\n",
              "      <td>20.8516</td>\n",
              "      <td>2.9550</td>\n",
              "      <td>29.2243</td>\n",
              "      <td>52.6367</td>\n",
              "      <td>22.0970</td>\n",
              "      <td>40.6229</td>\n",
              "      <td>95.5804</td>\n",
              "      <td>3.246</td>\n",
              "      <td>4.1944</td>\n",
              "      <td>12.4540</td>\n",
              "      <td>18.766</td>\n",
              "      <td>0.5413</td>\n",
              "      <td>67.1113</td>\n",
              "      <td>33.9508</td>\n",
              "      <td>0.2885</td>\n",
              "      <td>7.3173</td>\n",
              "      <td>46.7549</td>\n",
              "      <td>9.8500</td>\n",
              "      <td>9.2500</td>\n",
              "      <td>4.7815</td>\n",
              "      <td>6.1100</td>\n",
              "      <td>5.9519</td>\n",
              "      <td>5.2367</td>\n",
              "      <td>18.9550</td>\n",
              "      <td>19.9563</td>\n",
              "      <td>17.46</td>\n",
              "      <td>7.4874</td>\n",
              "      <td>153.7300</td>\n",
              "      <td>5.7300</td>\n",
              "      <td>161.3413</td>\n",
              "      <td>32.5003</td>\n",
              "      <td>2.045</td>\n",
              "      <td>20.4265</td>\n",
              "      <td>...</td>\n",
              "      <td>7.4300</td>\n",
              "      <td>8.4100</td>\n",
              "      <td>89.9638</td>\n",
              "      <td>9.6281</td>\n",
              "      <td>4.5815</td>\n",
              "      <td>10.3533</td>\n",
              "      <td>0.6703</td>\n",
              "      <td>16.5503</td>\n",
              "      <td>36.18</td>\n",
              "      <td>1.5955</td>\n",
              "      <td>78.9251</td>\n",
              "      <td>10.1732</td>\n",
              "      <td>18.9760</td>\n",
              "      <td>4.0613</td>\n",
              "      <td>31.1800</td>\n",
              "      <td>0.2972</td>\n",
              "      <td>6.6062</td>\n",
              "      <td>8.5800</td>\n",
              "      <td>22.88</td>\n",
              "      <td>11.65</td>\n",
              "      <td>9.2300</td>\n",
              "      <td>0.5197</td>\n",
              "      <td>8.3176</td>\n",
              "      <td>1.2700</td>\n",
              "      <td>3.0200</td>\n",
              "      <td>8.3577</td>\n",
              "      <td>11.2436</td>\n",
              "      <td>29.9695</td>\n",
              "      <td>13.5393</td>\n",
              "      <td>60.9694</td>\n",
              "      <td>46.9049</td>\n",
              "      <td>2.3150</td>\n",
              "      <td>27.3187</td>\n",
              "      <td>40.2328</td>\n",
              "      <td>31.7351</td>\n",
              "      <td>5.3517</td>\n",
              "      <td>27.5267</td>\n",
              "      <td>13.1542</td>\n",
              "      <td>6.0969</td>\n",
              "      <td>36.1615</td>\n",
              "    </tr>\n",
              "    <tr>\n",
              "      <th>2</th>\n",
              "      <td>7.0700</td>\n",
              "      <td>10.6100</td>\n",
              "      <td>21.3200</td>\n",
              "      <td>5.1650</td>\n",
              "      <td>3.530</td>\n",
              "      <td>85.4300</td>\n",
              "      <td>112.830</td>\n",
              "      <td>21.2050</td>\n",
              "      <td>3.0500</td>\n",
              "      <td>29.6000</td>\n",
              "      <td>53.0000</td>\n",
              "      <td>21.7800</td>\n",
              "      <td>42.3200</td>\n",
              "      <td>96.8900</td>\n",
              "      <td>3.460</td>\n",
              "      <td>4.1350</td>\n",
              "      <td>12.7800</td>\n",
              "      <td>18.800</td>\n",
              "      <td>0.5700</td>\n",
              "      <td>68.4100</td>\n",
              "      <td>34.2200</td>\n",
              "      <td>0.3100</td>\n",
              "      <td>7.7800</td>\n",
              "      <td>47.2100</td>\n",
              "      <td>10.2600</td>\n",
              "      <td>9.0850</td>\n",
              "      <td>4.9500</td>\n",
              "      <td>6.0500</td>\n",
              "      <td>6.0900</td>\n",
              "      <td>5.3100</td>\n",
              "      <td>20.5388</td>\n",
              "      <td>20.3400</td>\n",
              "      <td>18.12</td>\n",
              "      <td>7.6150</td>\n",
              "      <td>161.4350</td>\n",
              "      <td>6.0800</td>\n",
              "      <td>164.7600</td>\n",
              "      <td>31.2600</td>\n",
              "      <td>2.100</td>\n",
              "      <td>21.0100</td>\n",
              "      <td>...</td>\n",
              "      <td>7.5750</td>\n",
              "      <td>8.8900</td>\n",
              "      <td>92.1200</td>\n",
              "      <td>9.9500</td>\n",
              "      <td>4.7600</td>\n",
              "      <td>10.5700</td>\n",
              "      <td>0.7600</td>\n",
              "      <td>17.3300</td>\n",
              "      <td>37.82</td>\n",
              "      <td>1.5900</td>\n",
              "      <td>78.1600</td>\n",
              "      <td>10.1200</td>\n",
              "      <td>20.4900</td>\n",
              "      <td>4.0500</td>\n",
              "      <td>33.1600</td>\n",
              "      <td>0.3000</td>\n",
              "      <td>6.6650</td>\n",
              "      <td>9.5500</td>\n",
              "      <td>22.13</td>\n",
              "      <td>12.37</td>\n",
              "      <td>9.5900</td>\n",
              "      <td>0.5400</td>\n",
              "      <td>8.5800</td>\n",
              "      <td>1.3400</td>\n",
              "      <td>3.0101</td>\n",
              "      <td>7.8300</td>\n",
              "      <td>11.2200</td>\n",
              "      <td>31.0300</td>\n",
              "      <td>13.7100</td>\n",
              "      <td>60.7900</td>\n",
              "      <td>48.7000</td>\n",
              "      <td>2.2300</td>\n",
              "      <td>29.1100</td>\n",
              "      <td>41.9000</td>\n",
              "      <td>33.3400</td>\n",
              "      <td>5.3900</td>\n",
              "      <td>29.3400</td>\n",
              "      <td>12.5100</td>\n",
              "      <td>6.0000</td>\n",
              "      <td>37.0300</td>\n",
              "    </tr>\n",
              "  </tbody>\n",
              "</table>\n",
              "<p>3 rows × 83 columns</p>\n",
              "</div>"
            ],
            "text/plain": [
              "       AA      AES      AIG     APA  ...      WFC      WMB       X      XOM\n",
              "0  7.1230  11.3047  23.9400  5.6824  ...  27.5515  13.5757  5.4423  35.3148\n",
              "1  6.9322   9.9900  21.0667  4.8215  ...  27.5267  13.1542  6.0969  36.1615\n",
              "2  7.0700  10.6100  21.3200  5.1650  ...  29.3400  12.5100  6.0000  37.0300\n",
              "\n",
              "[3 rows x 83 columns]"
            ]
          },
          "metadata": {
            "tags": []
          },
          "execution_count": 79
        }
      ]
    },
    {
      "cell_type": "markdown",
      "metadata": {
        "id": "cTDo8Q8Fa8cf",
        "colab_type": "text"
      },
      "source": [
        "## **# Подготовка данных к использованию сетью**"
      ]
    },
    {
      "cell_type": "code",
      "metadata": {
        "id": "jjE0LEAhCHYt",
        "colab_type": "code",
        "colab": {
          "base_uri": "https://localhost:8080/",
          "height": 191
        },
        "outputId": "f452f565-c5d0-4270-8897-8736e9878f24"
      },
      "source": [
        "# Создание копии таблицы данных\n",
        "dataSetFull = allData.copy()\n",
        "# Заменяем значения таблицы на значения равным разнице между строками\n",
        "dataSetFull = dataSetFull.diff().shift(-1)\n",
        "dataSetFull = dataSetFull.dropna()\n",
        "dataSetFull.head(3)"
      ],
      "execution_count": 80,
      "outputs": [
        {
          "output_type": "execute_result",
          "data": {
            "text/html": [
              "<div>\n",
              "<style scoped>\n",
              "    .dataframe tbody tr th:only-of-type {\n",
              "        vertical-align: middle;\n",
              "    }\n",
              "\n",
              "    .dataframe tbody tr th {\n",
              "        vertical-align: top;\n",
              "    }\n",
              "\n",
              "    .dataframe thead th {\n",
              "        text-align: right;\n",
              "    }\n",
              "</style>\n",
              "<table border=\"1\" class=\"dataframe\">\n",
              "  <thead>\n",
              "    <tr style=\"text-align: right;\">\n",
              "      <th></th>\n",
              "      <th>AA</th>\n",
              "      <th>AES</th>\n",
              "      <th>AIG</th>\n",
              "      <th>APA</th>\n",
              "      <th>AUY</th>\n",
              "      <th>AXP</th>\n",
              "      <th>BA</th>\n",
              "      <th>BAC</th>\n",
              "      <th>BBVA</th>\n",
              "      <th>BK</th>\n",
              "      <th>BMY</th>\n",
              "      <th>BWA</th>\n",
              "      <th>C</th>\n",
              "      <th>CAT</th>\n",
              "      <th>CDE</th>\n",
              "      <th>CLF</th>\n",
              "      <th>CNP</th>\n",
              "      <th>COG</th>\n",
              "      <th>CPE</th>\n",
              "      <th>CVX</th>\n",
              "      <th>DAL</th>\n",
              "      <th>DNR</th>\n",
              "      <th>DVN</th>\n",
              "      <th>EMR</th>\n",
              "      <th>EQNR</th>\n",
              "      <th>EQT</th>\n",
              "      <th>F</th>\n",
              "      <th>FCX</th>\n",
              "      <th>FTI</th>\n",
              "      <th>GFI</th>\n",
              "      <th>GLW</th>\n",
              "      <th>GM</th>\n",
              "      <th>GOLD</th>\n",
              "      <th>GPS</th>\n",
              "      <th>GS</th>\n",
              "      <th>HAL</th>\n",
              "      <th>HD</th>\n",
              "      <th>HIG</th>\n",
              "      <th>HL</th>\n",
              "      <th>HOG</th>\n",
              "      <th>...</th>\n",
              "      <th>INFY</th>\n",
              "      <th>IVZ</th>\n",
              "      <th>JPM</th>\n",
              "      <th>KEY</th>\n",
              "      <th>KGC</th>\n",
              "      <th>KIM</th>\n",
              "      <th>KOS</th>\n",
              "      <th>KSS</th>\n",
              "      <th>LUV</th>\n",
              "      <th>LYG</th>\n",
              "      <th>MDT</th>\n",
              "      <th>MGM</th>\n",
              "      <th>MPC</th>\n",
              "      <th>MRO</th>\n",
              "      <th>MS</th>\n",
              "      <th>NE</th>\n",
              "      <th>NLY</th>\n",
              "      <th>NOV</th>\n",
              "      <th>OKE</th>\n",
              "      <th>OXY</th>\n",
              "      <th>PCG</th>\n",
              "      <th>QEP</th>\n",
              "      <th>RF</th>\n",
              "      <th>RIG</th>\n",
              "      <th>RRC</th>\n",
              "      <th>RWT</th>\n",
              "      <th>SAVE</th>\n",
              "      <th>SCHW</th>\n",
              "      <th>SLB</th>\n",
              "      <th>SPG</th>\n",
              "      <th>STT</th>\n",
              "      <th>SWN</th>\n",
              "      <th>TFC</th>\n",
              "      <th>TJX</th>\n",
              "      <th>USB</th>\n",
              "      <th>VER</th>\n",
              "      <th>WFC</th>\n",
              "      <th>WMB</th>\n",
              "      <th>X</th>\n",
              "      <th>XOM</th>\n",
              "    </tr>\n",
              "  </thead>\n",
              "  <tbody>\n",
              "    <tr>\n",
              "      <th>0</th>\n",
              "      <td>-0.1908</td>\n",
              "      <td>-1.3147</td>\n",
              "      <td>-2.8733</td>\n",
              "      <td>-0.8609</td>\n",
              "      <td>0.4350</td>\n",
              "      <td>-2.4795</td>\n",
              "      <td>-21.3400</td>\n",
              "      <td>-0.2772</td>\n",
              "      <td>-0.0162</td>\n",
              "      <td>-0.9083</td>\n",
              "      <td>0.7350</td>\n",
              "      <td>-1.6194</td>\n",
              "      <td>-1.3947</td>\n",
              "      <td>-0.4697</td>\n",
              "      <td>0.5660</td>\n",
              "      <td>0.1527</td>\n",
              "      <td>-0.3013</td>\n",
              "      <td>1.2560</td>\n",
              "      <td>-0.0687</td>\n",
              "      <td>-3.5487</td>\n",
              "      <td>-2.2943</td>\n",
              "      <td>-0.0115</td>\n",
              "      <td>-0.2859</td>\n",
              "      <td>-1.0236</td>\n",
              "      <td>-0.0541</td>\n",
              "      <td>0.4563</td>\n",
              "      <td>-0.2906</td>\n",
              "      <td>-0.2927</td>\n",
              "      <td>-0.2507</td>\n",
              "      <td>0.5567</td>\n",
              "      <td>-0.4081</td>\n",
              "      <td>-1.6227</td>\n",
              "      <td>1.2500</td>\n",
              "      <td>-0.8962</td>\n",
              "      <td>-3.1906</td>\n",
              "      <td>-0.4026</td>\n",
              "      <td>-6.9390</td>\n",
              "      <td>-1.7240</td>\n",
              "      <td>0.3450</td>\n",
              "      <td>-0.6123</td>\n",
              "      <td>...</td>\n",
              "      <td>0.0069</td>\n",
              "      <td>-0.5537</td>\n",
              "      <td>-2.3648</td>\n",
              "      <td>-0.6562</td>\n",
              "      <td>0.5015</td>\n",
              "      <td>-0.4812</td>\n",
              "      <td>-0.1301</td>\n",
              "      <td>-2.7578</td>\n",
              "      <td>-2.0300</td>\n",
              "      <td>0.0048</td>\n",
              "      <td>-0.3480</td>\n",
              "      <td>-0.7514</td>\n",
              "      <td>-1.8527</td>\n",
              "      <td>-0.0904</td>\n",
              "      <td>-1.2035</td>\n",
              "      <td>0.0171</td>\n",
              "      <td>-0.3567</td>\n",
              "      <td>-0.6839</td>\n",
              "      <td>-2.14</td>\n",
              "      <td>-0.7400</td>\n",
              "      <td>-0.3238</td>\n",
              "      <td>-0.1206</td>\n",
              "      <td>-0.1459</td>\n",
              "      <td>-0.0506</td>\n",
              "      <td>0.2088</td>\n",
              "      <td>-1.0362</td>\n",
              "      <td>-0.8615</td>\n",
              "      <td>-1.3986</td>\n",
              "      <td>-0.9968</td>\n",
              "      <td>-6.0206</td>\n",
              "      <td>-2.2756</td>\n",
              "      <td>0.3942</td>\n",
              "      <td>-0.9731</td>\n",
              "      <td>-1.2327</td>\n",
              "      <td>-1.6488</td>\n",
              "      <td>-0.2706</td>\n",
              "      <td>-0.0248</td>\n",
              "      <td>-0.4215</td>\n",
              "      <td>0.6546</td>\n",
              "      <td>0.8467</td>\n",
              "    </tr>\n",
              "    <tr>\n",
              "      <th>1</th>\n",
              "      <td>0.1378</td>\n",
              "      <td>0.6200</td>\n",
              "      <td>0.2533</td>\n",
              "      <td>0.3435</td>\n",
              "      <td>0.1850</td>\n",
              "      <td>0.2629</td>\n",
              "      <td>2.6150</td>\n",
              "      <td>0.3534</td>\n",
              "      <td>0.0950</td>\n",
              "      <td>0.3757</td>\n",
              "      <td>0.3633</td>\n",
              "      <td>-0.3170</td>\n",
              "      <td>1.6971</td>\n",
              "      <td>1.3096</td>\n",
              "      <td>0.2140</td>\n",
              "      <td>-0.0594</td>\n",
              "      <td>0.3260</td>\n",
              "      <td>0.0340</td>\n",
              "      <td>0.0287</td>\n",
              "      <td>1.2987</td>\n",
              "      <td>0.2692</td>\n",
              "      <td>0.0215</td>\n",
              "      <td>0.4627</td>\n",
              "      <td>0.4551</td>\n",
              "      <td>0.4100</td>\n",
              "      <td>-0.1650</td>\n",
              "      <td>0.1685</td>\n",
              "      <td>-0.0600</td>\n",
              "      <td>0.1381</td>\n",
              "      <td>0.0733</td>\n",
              "      <td>1.5838</td>\n",
              "      <td>0.3837</td>\n",
              "      <td>0.6600</td>\n",
              "      <td>0.1276</td>\n",
              "      <td>7.7050</td>\n",
              "      <td>0.3500</td>\n",
              "      <td>3.4187</td>\n",
              "      <td>-1.2403</td>\n",
              "      <td>0.0550</td>\n",
              "      <td>0.5835</td>\n",
              "      <td>...</td>\n",
              "      <td>0.1450</td>\n",
              "      <td>0.4800</td>\n",
              "      <td>2.1562</td>\n",
              "      <td>0.3219</td>\n",
              "      <td>0.1785</td>\n",
              "      <td>0.2167</td>\n",
              "      <td>0.0897</td>\n",
              "      <td>0.7797</td>\n",
              "      <td>1.6400</td>\n",
              "      <td>-0.0055</td>\n",
              "      <td>-0.7651</td>\n",
              "      <td>-0.0532</td>\n",
              "      <td>1.5140</td>\n",
              "      <td>-0.0113</td>\n",
              "      <td>1.9800</td>\n",
              "      <td>0.0028</td>\n",
              "      <td>0.0588</td>\n",
              "      <td>0.9700</td>\n",
              "      <td>-0.75</td>\n",
              "      <td>0.7200</td>\n",
              "      <td>0.3600</td>\n",
              "      <td>0.0203</td>\n",
              "      <td>0.2624</td>\n",
              "      <td>0.0700</td>\n",
              "      <td>-0.0099</td>\n",
              "      <td>-0.5277</td>\n",
              "      <td>-0.0236</td>\n",
              "      <td>1.0605</td>\n",
              "      <td>0.1707</td>\n",
              "      <td>-0.1794</td>\n",
              "      <td>1.7951</td>\n",
              "      <td>-0.0850</td>\n",
              "      <td>1.7913</td>\n",
              "      <td>1.6672</td>\n",
              "      <td>1.6049</td>\n",
              "      <td>0.0383</td>\n",
              "      <td>1.8133</td>\n",
              "      <td>-0.6442</td>\n",
              "      <td>-0.0969</td>\n",
              "      <td>0.8685</td>\n",
              "    </tr>\n",
              "    <tr>\n",
              "      <th>2</th>\n",
              "      <td>-0.0181</td>\n",
              "      <td>0.3300</td>\n",
              "      <td>0.5858</td>\n",
              "      <td>-0.1050</td>\n",
              "      <td>-0.1691</td>\n",
              "      <td>1.3800</td>\n",
              "      <td>4.3408</td>\n",
              "      <td>0.8008</td>\n",
              "      <td>0.0300</td>\n",
              "      <td>-0.4623</td>\n",
              "      <td>-0.2811</td>\n",
              "      <td>0.1858</td>\n",
              "      <td>-0.2864</td>\n",
              "      <td>1.9300</td>\n",
              "      <td>-0.1991</td>\n",
              "      <td>0.0050</td>\n",
              "      <td>-0.0850</td>\n",
              "      <td>0.6051</td>\n",
              "      <td>-0.0190</td>\n",
              "      <td>1.0400</td>\n",
              "      <td>1.0800</td>\n",
              "      <td>-0.0078</td>\n",
              "      <td>-0.1900</td>\n",
              "      <td>-0.8650</td>\n",
              "      <td>-0.0200</td>\n",
              "      <td>0.2124</td>\n",
              "      <td>0.1563</td>\n",
              "      <td>0.1850</td>\n",
              "      <td>-0.0600</td>\n",
              "      <td>-0.1236</td>\n",
              "      <td>-0.4488</td>\n",
              "      <td>0.4700</td>\n",
              "      <td>-0.5204</td>\n",
              "      <td>0.6322</td>\n",
              "      <td>-1.5450</td>\n",
              "      <td>0.1094</td>\n",
              "      <td>5.4347</td>\n",
              "      <td>1.1285</td>\n",
              "      <td>-0.1895</td>\n",
              "      <td>1.0058</td>\n",
              "      <td>...</td>\n",
              "      <td>0.1700</td>\n",
              "      <td>0.5500</td>\n",
              "      <td>2.5100</td>\n",
              "      <td>-0.0050</td>\n",
              "      <td>-0.1488</td>\n",
              "      <td>0.2528</td>\n",
              "      <td>-0.0297</td>\n",
              "      <td>0.6100</td>\n",
              "      <td>0.7301</td>\n",
              "      <td>0.0250</td>\n",
              "      <td>1.1403</td>\n",
              "      <td>0.4100</td>\n",
              "      <td>0.2254</td>\n",
              "      <td>-0.0400</td>\n",
              "      <td>0.5700</td>\n",
              "      <td>0.0038</td>\n",
              "      <td>-0.1100</td>\n",
              "      <td>-0.1900</td>\n",
              "      <td>0.97</td>\n",
              "      <td>-0.0268</td>\n",
              "      <td>-0.1000</td>\n",
              "      <td>-0.0383</td>\n",
              "      <td>0.5200</td>\n",
              "      <td>-0.0046</td>\n",
              "      <td>0.0407</td>\n",
              "      <td>0.0421</td>\n",
              "      <td>0.1466</td>\n",
              "      <td>0.5583</td>\n",
              "      <td>0.3887</td>\n",
              "      <td>0.3931</td>\n",
              "      <td>0.3100</td>\n",
              "      <td>-0.0944</td>\n",
              "      <td>-0.3300</td>\n",
              "      <td>0.9113</td>\n",
              "      <td>0.3100</td>\n",
              "      <td>-0.0386</td>\n",
              "      <td>-0.3024</td>\n",
              "      <td>0.4084</td>\n",
              "      <td>0.0850</td>\n",
              "      <td>-0.5690</td>\n",
              "    </tr>\n",
              "  </tbody>\n",
              "</table>\n",
              "<p>3 rows × 83 columns</p>\n",
              "</div>"
            ],
            "text/plain": [
              "       AA     AES     AIG     APA  ...     WFC     WMB       X     XOM\n",
              "0 -0.1908 -1.3147 -2.8733 -0.8609  ... -0.0248 -0.4215  0.6546  0.8467\n",
              "1  0.1378  0.6200  0.2533  0.3435  ...  1.8133 -0.6442 -0.0969  0.8685\n",
              "2 -0.0181  0.3300  0.5858 -0.1050  ... -0.3024  0.4084  0.0850 -0.5690\n",
              "\n",
              "[3 rows x 83 columns]"
            ]
          },
          "metadata": {
            "tags": []
          },
          "execution_count": 80
        }
      ]
    },
    {
      "cell_type": "markdown",
      "metadata": {
        "id": "cx72p6N-zp_s",
        "colab_type": "text"
      },
      "source": [
        "## **Поиск лучшего сдвига значений для использования параметра в качестве цели**"
      ]
    },
    {
      "cell_type": "code",
      "metadata": {
        "id": "vUxMSrxI-DKl",
        "colab_type": "code",
        "colab": {}
      },
      "source": [
        "# Функция соднаия последовательной модели\n",
        "def modelTF():\n",
        "  model = Sequential()\n",
        "  # Добавляем уровни сети\n",
        "  model.add(Dense(2048, input_dim = dataSetFull.shape[1] - 1, activation=\"relu\"))\n",
        "  model.add(Dense(1024, activation = \"relu\"))\n",
        "  model.add(Dense(512, activation = \"relu\"))\n",
        "  model.add(Dense(256, activation = \"relu\"))\n",
        "  model.add(layers.Dropout(0.05))\n",
        "  model.add(Dense(1))\n",
        "  # Компилируем сеть и задаем оптимизатор\n",
        "  optimizer = tf.keras.optimizers.Adam(learning_rate = 0.000005)\n",
        "  model.compile(loss = 'mse', optimizer = optimizer, metrics = [\"mse\", \"mae\"])\n",
        "#  print(model.summary())\n",
        "  return model"
      ],
      "execution_count": null,
      "outputs": []
    },
    {
      "cell_type": "code",
      "metadata": {
        "id": "DXLVkXkO9_Vk",
        "colab_type": "code",
        "colab": {}
      },
      "source": [
        "# Класс отображения хода обучения сети\n",
        "class PrintDot(keras.callbacks.Callback):\n",
        "  def on_epoch_end(self, epoch, logs):\n",
        "    if epoch % 15 == 0: print('')\n",
        "    print('.', end = '')"
      ],
      "execution_count": null,
      "outputs": []
    },
    {
      "cell_type": "code",
      "metadata": {
        "id": "lNNhzaTcqT_L",
        "colab_type": "code",
        "colab": {}
      },
      "source": [
        "# Создание функции для кросс валидации\n",
        "def crossValdation(dataSet, modelTF, arg):\n",
        "  epohs = 5\n",
        "  batch = 20\n",
        "  histMean = pd.DataFrame({'loss':[], 'mse':[], 'mae':[], 'val_loss':[], 'val_mse':[], 'val_mae':[], 'epoch':[]})\n",
        "  kf = KFold(n_splits=5, shuffle = True, random_state = 42)\n",
        "  for train_index, validation_index in kf.split(dataSet):\n",
        "    trainData = dataSet.iloc[train_index]\n",
        "    validationData =  dataSet.iloc[validation_index]\n",
        "    model = modelTF()\n",
        "    early_stop = keras.callbacks.EarlyStopping(monitor = 'val_loss', patience = 3)\n",
        "    history = model.fit(\n",
        "      trainData.drop([arg], axis = 1, inplace = False), trainData[arg], batch_size = batch,\n",
        "      epochs=epohs,  validation_data = (validationData.drop([arg], axis = 1, inplace = False), validationData[arg]), verbose = 0)\n",
        "    hist = pd.DataFrame(history.history)\n",
        "    hist['epoch'] = history.epoch\n",
        "    histMean = histMean.append(hist.iloc[[-1]], ignore_index=True)\n",
        "  del histMean['epoch']\n",
        "  historyBias = pd.DataFrame(histMean.mean()).T\n",
        "  return historyBias"
      ],
      "execution_count": null,
      "outputs": []
    },
    {
      "cell_type": "code",
      "metadata": {
        "id": "11rMoQFAQ2UL",
        "colab_type": "code",
        "colab": {}
      },
      "source": [
        "parametres =  dataSetFull.columns.tolist()"
      ],
      "execution_count": null,
      "outputs": []
    },
    {
      "cell_type": "code",
      "metadata": {
        "id": "HAPR1Ps2PXTS",
        "colab_type": "code",
        "colab": {
          "base_uri": "https://localhost:8080/",
          "height": 34
        },
        "outputId": "ae3a368f-e6f0-4c17-992c-20488d339422"
      },
      "source": [
        "parametres = parametres[:5]\n",
        "parametres"
      ],
      "execution_count": null,
      "outputs": [
        {
          "output_type": "execute_result",
          "data": {
            "text/plain": [
              "['AA', 'AES', 'AIG', 'APA', 'AUY']"
            ]
          },
          "metadata": {
            "tags": []
          },
          "execution_count": 11
        }
      ]
    },
    {
      "cell_type": "code",
      "metadata": {
        "id": "1NEHNtpFqTfA",
        "colab_type": "code",
        "colab": {}
      },
      "source": [
        "# Функция подбора лучших значений смещений(bias) по параметрам (arg)\n",
        "def testBias(allArg, dataSet, crossValdation, modelTF): # списокКомпаний/датаСет/функцияКроссВалидации/модельНС\n",
        "  maxBias = 100   # int(input('Max bias Y   -   '))\n",
        "  historyBias = pd.DataFrame({'loss':[], 'mse':[], 'mae':[], 'val_loss':[], 'val_mse':[], 'val_mae':[]})\n",
        "  biasAll = pd.DataFrame({'Bias':[]})\n",
        "  argAll = pd.DataFrame({'Company':[]})\n",
        "  dataSetFull = dataSet.copy()\n",
        "  for arg in allArg:     #  Проход по переменным модели для вычисления лучшего значения смещений\n",
        "    bias = pd.DataFrame({'Bias':[]})\n",
        "    argum = pd.DataFrame({'Company':[]})\n",
        "    for b in range(1, maxBias + 1, 3): \n",
        "      if b > 1:\n",
        "        dataSetFull = dataSet.copy()\n",
        "      dataSet = dataSetFull.copy()\n",
        "      dataSetBiasArg = dataSet[arg]\n",
        "      dataSetBiasArg = dataSetBiasArg[b:].reset_index()\n",
        "      del dataSetBiasArg['index']\n",
        "      dataSetWithoutArg = dataSet.copy()\n",
        "      del dataSetWithoutArg[arg]\n",
        "      dataSet = pd.concat([dataSetWithoutArg, dataSetBiasArg], axis=1)\n",
        "      dataSet = dataSet.dropna()\n",
        "      historyBias = historyBias.append(crossValdation(dataSet, modelTF, arg), ignore_index=True)   # Получение значений кросс валидации\n",
        "      bias = bias.append(pd.DataFrame({'Bias':[b]}), ignore_index=True)\n",
        "      argum = argum.append(pd.DataFrame({'Company':[arg]}), ignore_index=True)\n",
        "      dataSet = dataSetFull.copy()  # Откат значений таблицы\n",
        "    biasAll = biasAll.append(bias, ignore_index=True)\n",
        "    argAll = argAll.append(argum, ignore_index=True)\n",
        "  HB = pd.concat([historyBias, biasAll, argAll], axis=1)\n",
        "  return HB"
      ],
      "execution_count": null,
      "outputs": []
    },
    {
      "cell_type": "code",
      "metadata": {
        "id": "mtzWM8ooqTFr",
        "colab_type": "code",
        "colab": {
          "base_uri": "https://localhost:8080/",
          "height": 34
        },
        "outputId": "4997ec5c-7f8e-4efa-c75f-70262252104e"
      },
      "source": [
        "# Запуск поиска лучших параметров смещения и лучших параметров ан роль цели\n",
        "qualityBias = testBias(parametres, dataSetFull, crossValdation, modelTF)"
      ],
      "execution_count": null,
      "outputs": [
        {
          "output_type": "stream",
          "text": [
            "Max bias Y   -   100\n"
          ],
          "name": "stdout"
        }
      ]
    },
    {
      "cell_type": "code",
      "metadata": {
        "id": "le1d5ogEqS03",
        "colab_type": "code",
        "colab": {
          "base_uri": "https://localhost:8080/",
          "height": 17
        },
        "outputId": "e8ab6197-296e-4d54-c402-1850c070d98b"
      },
      "source": [
        "\"\"\"# Вывод результатов\n",
        "qualityBias.to_json('stockQuotesII.json')\n",
        "files.download(\"stockQuotesII.json\")\"\"\""
      ],
      "execution_count": null,
      "outputs": [
        {
          "output_type": "display_data",
          "data": {
            "application/javascript": [
              "\n",
              "    async function download(id, filename, size) {\n",
              "      if (!google.colab.kernel.accessAllowed) {\n",
              "        return;\n",
              "      }\n",
              "      const div = document.createElement('div');\n",
              "      const label = document.createElement('label');\n",
              "      label.textContent = `Downloading \"${filename}\": `;\n",
              "      div.appendChild(label);\n",
              "      const progress = document.createElement('progress');\n",
              "      progress.max = size;\n",
              "      div.appendChild(progress);\n",
              "      document.body.appendChild(div);\n",
              "\n",
              "      const buffers = [];\n",
              "      let downloaded = 0;\n",
              "\n",
              "      const channel = await google.colab.kernel.comms.open(id);\n",
              "      // Send a message to notify the kernel that we're ready.\n",
              "      channel.send({})\n",
              "\n",
              "      for await (const message of channel.messages) {\n",
              "        // Send a message to notify the kernel that we're ready.\n",
              "        channel.send({})\n",
              "        if (message.buffers) {\n",
              "          for (const buffer of message.buffers) {\n",
              "            buffers.push(buffer);\n",
              "            downloaded += buffer.byteLength;\n",
              "            progress.value = downloaded;\n",
              "          }\n",
              "        }\n",
              "      }\n",
              "      const blob = new Blob(buffers, {type: 'application/binary'});\n",
              "      const a = document.createElement('a');\n",
              "      a.href = window.URL.createObjectURL(blob);\n",
              "      a.download = filename;\n",
              "      div.appendChild(a);\n",
              "      a.click();\n",
              "      div.remove();\n",
              "    }\n",
              "  "
            ],
            "text/plain": [
              "<IPython.core.display.Javascript object>"
            ]
          },
          "metadata": {
            "tags": []
          }
        },
        {
          "output_type": "display_data",
          "data": {
            "application/javascript": [
              "download(\"download_088b8c7f-14c1-47de-a3d7-012421fe5989\", \"stockQuotesII.json\", 22342)"
            ],
            "text/plain": [
              "<IPython.core.display.Javascript object>"
            ]
          },
          "metadata": {
            "tags": []
          }
        }
      ]
    },
    {
      "cell_type": "code",
      "metadata": {
        "id": "dXehVBFFaQ37",
        "colab_type": "code",
        "colab": {}
      },
      "source": [
        "qualityBias = pd.read_json('/content/stockQuotesII.json')"
      ],
      "execution_count": 8,
      "outputs": []
    },
    {
      "cell_type": "code",
      "metadata": {
        "id": "qSV5lYWH1F33",
        "colab_type": "code",
        "colab": {
          "base_uri": "https://localhost:8080/",
          "height": 204
        },
        "outputId": "c0dfb553-963b-43cf-8334-27a338c749d5"
      },
      "source": [
        "qualityBias.iloc[0:5]"
      ],
      "execution_count": 75,
      "outputs": [
        {
          "output_type": "execute_result",
          "data": {
            "text/html": [
              "<div>\n",
              "<style scoped>\n",
              "    .dataframe tbody tr th:only-of-type {\n",
              "        vertical-align: middle;\n",
              "    }\n",
              "\n",
              "    .dataframe tbody tr th {\n",
              "        vertical-align: top;\n",
              "    }\n",
              "\n",
              "    .dataframe thead th {\n",
              "        text-align: right;\n",
              "    }\n",
              "</style>\n",
              "<table border=\"1\" class=\"dataframe\">\n",
              "  <thead>\n",
              "    <tr style=\"text-align: right;\">\n",
              "      <th></th>\n",
              "      <th>loss</th>\n",
              "      <th>mse</th>\n",
              "      <th>mae</th>\n",
              "      <th>val_loss</th>\n",
              "      <th>val_mse</th>\n",
              "      <th>val_mae</th>\n",
              "      <th>Bias</th>\n",
              "      <th>Company</th>\n",
              "    </tr>\n",
              "  </thead>\n",
              "  <tbody>\n",
              "    <tr>\n",
              "      <th>0</th>\n",
              "      <td>0.032043</td>\n",
              "      <td>0.032043</td>\n",
              "      <td>0.126109</td>\n",
              "      <td>0.042385</td>\n",
              "      <td>0.042385</td>\n",
              "      <td>0.143745</td>\n",
              "      <td>1</td>\n",
              "      <td>AA</td>\n",
              "    </tr>\n",
              "    <tr>\n",
              "      <th>1</th>\n",
              "      <td>0.034201</td>\n",
              "      <td>0.034201</td>\n",
              "      <td>0.129954</td>\n",
              "      <td>0.040765</td>\n",
              "      <td>0.040765</td>\n",
              "      <td>0.143848</td>\n",
              "      <td>4</td>\n",
              "      <td>AA</td>\n",
              "    </tr>\n",
              "    <tr>\n",
              "      <th>2</th>\n",
              "      <td>0.030658</td>\n",
              "      <td>0.030658</td>\n",
              "      <td>0.124504</td>\n",
              "      <td>0.039937</td>\n",
              "      <td>0.039937</td>\n",
              "      <td>0.137635</td>\n",
              "      <td>7</td>\n",
              "      <td>AA</td>\n",
              "    </tr>\n",
              "    <tr>\n",
              "      <th>3</th>\n",
              "      <td>0.034137</td>\n",
              "      <td>0.034137</td>\n",
              "      <td>0.128064</td>\n",
              "      <td>0.041416</td>\n",
              "      <td>0.041416</td>\n",
              "      <td>0.143069</td>\n",
              "      <td>10</td>\n",
              "      <td>AA</td>\n",
              "    </tr>\n",
              "    <tr>\n",
              "      <th>4</th>\n",
              "      <td>0.030425</td>\n",
              "      <td>0.030425</td>\n",
              "      <td>0.122440</td>\n",
              "      <td>0.038104</td>\n",
              "      <td>0.038104</td>\n",
              "      <td>0.136406</td>\n",
              "      <td>13</td>\n",
              "      <td>AA</td>\n",
              "    </tr>\n",
              "  </tbody>\n",
              "</table>\n",
              "</div>"
            ],
            "text/plain": [
              "       loss       mse       mae  val_loss   val_mse   val_mae  Bias Company\n",
              "0  0.032043  0.032043  0.126109  0.042385  0.042385  0.143745     1      AA\n",
              "1  0.034201  0.034201  0.129954  0.040765  0.040765  0.143848     4      AA\n",
              "2  0.030658  0.030658  0.124504  0.039937  0.039937  0.137635     7      AA\n",
              "3  0.034137  0.034137  0.128064  0.041416  0.041416  0.143069    10      AA\n",
              "4  0.030425  0.030425  0.122440  0.038104  0.038104  0.136406    13      AA"
            ]
          },
          "metadata": {
            "tags": []
          },
          "execution_count": 75
        }
      ]
    },
    {
      "cell_type": "code",
      "metadata": {
        "id": "APym2rT1slBs",
        "colab_type": "code",
        "colab": {
          "base_uri": "https://localhost:8080/",
          "height": 204
        },
        "outputId": "210c6b68-ba40-4b79-d4db-2d7fcf211bc6"
      },
      "source": [
        "qualityBias.iloc[pd.DataFrame(qualityBias.groupby('Company').val_mae.idxmin())['val_mae'].values]"
      ],
      "execution_count": 74,
      "outputs": [
        {
          "output_type": "execute_result",
          "data": {
            "text/html": [
              "<div>\n",
              "<style scoped>\n",
              "    .dataframe tbody tr th:only-of-type {\n",
              "        vertical-align: middle;\n",
              "    }\n",
              "\n",
              "    .dataframe tbody tr th {\n",
              "        vertical-align: top;\n",
              "    }\n",
              "\n",
              "    .dataframe thead th {\n",
              "        text-align: right;\n",
              "    }\n",
              "</style>\n",
              "<table border=\"1\" class=\"dataframe\">\n",
              "  <thead>\n",
              "    <tr style=\"text-align: right;\">\n",
              "      <th></th>\n",
              "      <th>loss</th>\n",
              "      <th>mse</th>\n",
              "      <th>mae</th>\n",
              "      <th>val_loss</th>\n",
              "      <th>val_mse</th>\n",
              "      <th>val_mae</th>\n",
              "      <th>Bias</th>\n",
              "      <th>Company</th>\n",
              "    </tr>\n",
              "  </thead>\n",
              "  <tbody>\n",
              "    <tr>\n",
              "      <th>19</th>\n",
              "      <td>0.029314</td>\n",
              "      <td>0.029314</td>\n",
              "      <td>0.117508</td>\n",
              "      <td>0.033496</td>\n",
              "      <td>0.033496</td>\n",
              "      <td>0.128573</td>\n",
              "      <td>58</td>\n",
              "      <td>AA</td>\n",
              "    </tr>\n",
              "    <tr>\n",
              "      <th>65</th>\n",
              "      <td>0.030635</td>\n",
              "      <td>0.030635</td>\n",
              "      <td>0.123225</td>\n",
              "      <td>0.035764</td>\n",
              "      <td>0.035764</td>\n",
              "      <td>0.132968</td>\n",
              "      <td>94</td>\n",
              "      <td>AES</td>\n",
              "    </tr>\n",
              "    <tr>\n",
              "      <th>94</th>\n",
              "      <td>0.264781</td>\n",
              "      <td>0.264781</td>\n",
              "      <td>0.332503</td>\n",
              "      <td>0.287335</td>\n",
              "      <td>0.287335</td>\n",
              "      <td>0.350555</td>\n",
              "      <td>79</td>\n",
              "      <td>AIG</td>\n",
              "    </tr>\n",
              "    <tr>\n",
              "      <th>104</th>\n",
              "      <td>0.093575</td>\n",
              "      <td>0.093575</td>\n",
              "      <td>0.214180</td>\n",
              "      <td>0.107692</td>\n",
              "      <td>0.107692</td>\n",
              "      <td>0.225884</td>\n",
              "      <td>7</td>\n",
              "      <td>APA</td>\n",
              "    </tr>\n",
              "    <tr>\n",
              "      <th>160</th>\n",
              "      <td>0.005697</td>\n",
              "      <td>0.005697</td>\n",
              "      <td>0.056819</td>\n",
              "      <td>0.005672</td>\n",
              "      <td>0.005672</td>\n",
              "      <td>0.056342</td>\n",
              "      <td>73</td>\n",
              "      <td>AUY</td>\n",
              "    </tr>\n",
              "  </tbody>\n",
              "</table>\n",
              "</div>"
            ],
            "text/plain": [
              "         loss       mse       mae  val_loss   val_mse   val_mae  Bias Company\n",
              "19   0.029314  0.029314  0.117508  0.033496  0.033496  0.128573    58      AA\n",
              "65   0.030635  0.030635  0.123225  0.035764  0.035764  0.132968    94     AES\n",
              "94   0.264781  0.264781  0.332503  0.287335  0.287335  0.350555    79     AIG\n",
              "104  0.093575  0.093575  0.214180  0.107692  0.107692  0.225884     7     APA\n",
              "160  0.005697  0.005697  0.056819  0.005672  0.005672  0.056342    73     AUY"
            ]
          },
          "metadata": {
            "tags": []
          },
          "execution_count": 74
        }
      ]
    },
    {
      "cell_type": "code",
      "metadata": {
        "id": "NzTNiUJY4yGp",
        "colab_type": "code",
        "colab": {
          "base_uri": "https://localhost:8080/",
          "height": 34
        },
        "outputId": "30b99206-002d-4242-8b06-3727cc3e591f"
      },
      "source": [
        "abs(dataSetFull['AA']).mean()"
      ],
      "execution_count": 81,
      "outputs": [
        {
          "output_type": "execute_result",
          "data": {
            "text/plain": [
              "0.13482529832935553"
            ]
          },
          "metadata": {
            "tags": []
          },
          "execution_count": 81
        }
      ]
    },
    {
      "cell_type": "markdown",
      "metadata": {
        "id": "8v0-n9bS0I-s",
        "colab_type": "text"
      },
      "source": [
        "## **Подбор гиперпараметров и модели**"
      ]
    },
    {
      "cell_type": "code",
      "metadata": {
        "id": "Ax1CSaLq61NC",
        "colab_type": "code",
        "colab": {}
      },
      "source": [
        "# Выборка данных. Разбивка на тренировочную и тестовую выборки\n",
        "trainDataset, testDataset = np.split(dataSetFull, [int(.8*len(dataSetFull))])\n",
        "# Подготовка данных выборок к использованию нейронной сетью\n",
        "trainInput = trainDataset.copy()\n",
        "del trainInput['AA']\n",
        "trainTarget = trainDataset['AA']\n",
        "testInput = testDataset.copy()\n",
        "testInput.drop(['AA'], axis=1, inplace=True)\n",
        "testTarget = testDataset['AA']"
      ],
      "execution_count": null,
      "outputs": []
    },
    {
      "cell_type": "code",
      "metadata": {
        "id": "MvfbyYOz_10A",
        "colab_type": "code",
        "colab": {
          "base_uri": "https://localhost:8080/",
          "height": 34
        },
        "outputId": "727dff1a-a1c3-4697-fa51-50082b1c8c9e"
      },
      "source": [
        "# Дерево решений \n",
        "regressor = DecisionTreeRegressor(criterion = 'mae', random_state=0, min_samples_leaf = 5)\n",
        "param_grid  = {\"max_depth\": [4, 8, 12, 16, 20],\n",
        "             'min_samples_split': [2, 4, 8, 12, 16],\n",
        "             'min_samples_leaf': [4, 8, 12, 16, 20]}\n",
        "gsTree = GridSearchCV(regressor, param_grid, cv = 5)\n",
        "gsTree.fit(trainInput,trainTarget)\n",
        "print(gsTree.best_params_)"
      ],
      "execution_count": null,
      "outputs": [
        {
          "output_type": "stream",
          "text": [
            "{'max_depth': 8, 'min_samples_leaf': 12, 'min_samples_split': 2}\n"
          ],
          "name": "stdout"
        }
      ]
    },
    {
      "cell_type": "code",
      "metadata": {
        "id": "FDInWQWkAvjA",
        "colab_type": "code",
        "colab": {
          "base_uri": "https://localhost:8080/",
          "height": 204
        },
        "outputId": "5b59b220-1a0c-4863-b85f-ee6d39a1f75d"
      },
      "source": [
        "# Предсказание значений\n",
        "best_model = gsTree.best_estimator_\n",
        "predict = best_model.predict(testInput)\n",
        "#print(predict.score(testInput, testTarget))\n",
        "print(predict)"
      ],
      "execution_count": null,
      "outputs": [
        {
          "output_type": "stream",
          "text": [
            "[ 0.40355  0.00175  0.02755 -0.04     0.09195  0.115    0.005    0.215\n",
            " -0.13135 -0.13135  0.07275 -0.025    0.09195  0.00175  0.09195 -0.3235\n",
            "  0.14    -0.11    -0.11    -0.0043  -0.04    -0.3235   0.00175 -0.15965\n",
            " -0.11    -0.11     0.09195  0.00175 -0.13135  0.215   -0.025    0.005\n",
            "  0.07275 -0.11     0.07275  0.215    0.07275 -0.11     0.02755 -0.025\n",
            " -0.11     0.00175  0.215    0.215    0.215   -0.025   -0.0525   0.115\n",
            " -0.0525   0.00175  0.215   -0.025    0.00175 -0.07     0.215   -0.0043\n",
            "  0.40355  0.14     0.40355 -0.025    0.0307  -0.13135 -0.0525   0.215\n",
            " -0.025    0.14     0.00175  0.005   -0.13135  0.00175 -0.3235   0.0149\n",
            "  0.14    -0.0043   0.09195 -0.04     0.07275 -0.3235  -0.3235   0.215\n",
            "  0.005   -0.0043   0.215   -0.3235 ]\n"
          ],
          "name": "stdout"
        }
      ]
    },
    {
      "cell_type": "code",
      "metadata": {
        "id": "NAqJwZn-qdaI",
        "colab_type": "code",
        "colab": {
          "base_uri": "https://localhost:8080/",
          "height": 221
        },
        "outputId": "7b0a2b3c-35a7-45b7-c8f3-6c4b19ba36bf"
      },
      "source": [
        "testTarget"
      ],
      "execution_count": null,
      "outputs": [
        {
          "output_type": "execute_result",
          "data": {
            "text/plain": [
              "335    0.5328\n",
              "336    0.0372\n",
              "337   -0.0650\n",
              "338    0.0550\n",
              "339    0.1400\n",
              "        ...  \n",
              "414    0.0580\n",
              "415    0.1600\n",
              "416   -0.1100\n",
              "417    0.2840\n",
              "418   -0.2190\n",
              "Name: AA, Length: 84, dtype: float64"
            ]
          },
          "metadata": {
            "tags": []
          },
          "execution_count": 44
        }
      ]
    },
    {
      "cell_type": "code",
      "metadata": {
        "id": "YGxgH38FAFUn",
        "colab_type": "code",
        "colab": {
          "base_uri": "https://localhost:8080/",
          "height": 187
        },
        "outputId": "f141d21e-aed6-48d9-af35-ee66d9ada9d8"
      },
      "source": [
        "for i in range(10):\n",
        "  print(\"Предсказанный рост:\", round(predict[i], 3), \", правильный рост:\", round(testTarget.values[i], 3))"
      ],
      "execution_count": null,
      "outputs": [
        {
          "output_type": "stream",
          "text": [
            "Предсказанный рост: 0.404 , правильный рост: 0.533\n",
            "Предсказанный рост: 0.002 , правильный рост: 0.037\n",
            "Предсказанный рост: 0.028 , правильный рост: -0.065\n",
            "Предсказанный рост: -0.04 , правильный рост: 0.055\n",
            "Предсказанный рост: 0.092 , правильный рост: 0.14\n",
            "Предсказанный рост: 0.115 , правильный рост: 0.107\n",
            "Предсказанный рост: 0.005 , правильный рост: -0.011\n",
            "Предсказанный рост: 0.215 , правильный рост: 0.155\n",
            "Предсказанный рост: -0.131 , правильный рост: 0.077\n",
            "Предсказанный рост: -0.131 , правильный рост: 0.033\n"
          ],
          "name": "stdout"
        }
      ]
    },
    {
      "cell_type": "code",
      "metadata": {
        "id": "VoYQobbzqdro",
        "colab_type": "code",
        "colab": {}
      },
      "source": [
        ""
      ],
      "execution_count": null,
      "outputs": []
    },
    {
      "cell_type": "code",
      "metadata": {
        "id": "IOEiZsSvAEl9",
        "colab_type": "code",
        "colab": {}
      },
      "source": [
        ""
      ],
      "execution_count": null,
      "outputs": []
    },
    {
      "cell_type": "code",
      "metadata": {
        "id": "ylnwkauHzfV2",
        "colab_type": "code",
        "colab": {}
      },
      "source": [
        "preds_test = model.predict(validationData.drop(['AA'], axis = 1, inplace = False)).flatten()\n",
        "# Просмотр прогноза\n",
        "predsData = model.predict(validationData.drop(['AA'], axis = 1, inplace = False))"
      ],
      "execution_count": null,
      "outputs": []
    },
    {
      "cell_type": "code",
      "metadata": {
        "id": "sgOrwDB9zfmp",
        "colab_type": "code",
        "colab": {}
      },
      "source": [
        ""
      ],
      "execution_count": null,
      "outputs": []
    },
    {
      "cell_type": "code",
      "metadata": {
        "id": "Bctnu9LWzfKy",
        "colab_type": "code",
        "colab": {}
      },
      "source": [
        ""
      ],
      "execution_count": null,
      "outputs": []
    },
    {
      "cell_type": "code",
      "metadata": {
        "id": "LA0z6yBw0QKo",
        "colab_type": "code",
        "colab": {}
      },
      "source": [
        ""
      ],
      "execution_count": null,
      "outputs": []
    },
    {
      "cell_type": "code",
      "metadata": {
        "id": "QJguBRZZ0QZG",
        "colab_type": "code",
        "colab": {}
      },
      "source": [
        ""
      ],
      "execution_count": null,
      "outputs": []
    },
    {
      "cell_type": "code",
      "metadata": {
        "id": "A9JhXUMo0QNi",
        "colab_type": "code",
        "colab": {}
      },
      "source": [
        ""
      ],
      "execution_count": null,
      "outputs": []
    },
    {
      "cell_type": "code",
      "metadata": {
        "id": "7xps6Rj50QHr",
        "colab_type": "code",
        "colab": {}
      },
      "source": [
        ""
      ],
      "execution_count": null,
      "outputs": []
    },
    {
      "cell_type": "code",
      "metadata": {
        "id": "78W-te32ze5i",
        "colab_type": "code",
        "colab": {}
      },
      "source": [
        ""
      ],
      "execution_count": null,
      "outputs": []
    },
    {
      "cell_type": "code",
      "metadata": {
        "id": "LV1JV85lq50Y",
        "colab_type": "code",
        "colab": {}
      },
      "source": [
        "# Обучаем модель с сохранением истории обучения\n",
        "epohs = 4\n",
        "batch = 20\n",
        "kf = KFold(n_splits=5, shuffle = True, random_state = 42)\n",
        "historys = pd.DataFrame({'loss':[], 'mse':[], 'mae':[], 'val_loss':[], 'val_mse':[], 'val_mae':[], 'epoch':[]})\n",
        "historysForGraph = pd.DataFrame({'loss':[0], 'mse':[0], 'mae':[0], 'val_loss':[0], 'val_mse':[0], 'val_mae':[0], 'epoch':[0]})\n",
        "for i in range(epohs - 1):\n",
        "  historysForGraph = historysForGraph.append(pd.DataFrame({'loss':[0], 'mse':[0], 'mae':[0], 'val_loss':[0], 'val_mse':[0], 'val_mae':[0], 'epoch':[0]}), ignore_index=True)\n",
        "historysForGraph\n",
        "for train_index, validation_index in kf.split(dataSetFull):\n",
        "  trainData = dataSetFull.iloc[train_index]\n",
        "  validationData =  dataSetFull.iloc[validation_index]\n",
        "  model = modelTF()\n",
        "  early_stop = keras.callbacks.EarlyStopping(monitor = 'val_loss', patience = 3)\n",
        "  history = model.fit(\n",
        "    trainData.drop(['AA'], axis = 1, inplace = False), trainData[\"AA\"], batch_size = batch,\n",
        "    epochs=epohs,  validation_data = (validationData.drop(['AA'], axis = 1, inplace = False), validationData[\"AA\"]), verbose = 0,\n",
        "    callbacks = [early_stop, PrintDot()])\n",
        "  # Вывод истории обучения\n",
        "  print ('\\n')\n",
        "  hist = pd.DataFrame(history.history)\n",
        "  hist['epoch'] = history.epoch\n",
        "  historys = historys.append(hist.iloc[[-1]], ignore_index=True)\n",
        "  historysForGraph = historysForGraph + hist\n",
        "  print (hist)\n",
        "  # Предсказание значений\n",
        "  preds_test = model.predict(validationData.drop(['AA'], axis = 1, inplace = False)).flatten()\n",
        "  # Просмотр прогноза\n",
        "  predsData = model.predict(validationData.drop(['AA'], axis = 1, inplace = False))\n",
        "  for i in range(5):\n",
        "    print(\"Предсказанный рост:\", round(predsData[i][0], 3), \", правильный рост:\", round(validationData[\"AA\"].values[i], 3))\n",
        "del historys['epoch']"
      ],
      "execution_count": null,
      "outputs": []
    },
    {
      "cell_type": "code",
      "metadata": {
        "id": "_EDE01h3YAqy",
        "colab_type": "code",
        "colab": {}
      },
      "source": [
        "pd.DataFrame(historys.mean()).T"
      ],
      "execution_count": null,
      "outputs": []
    },
    {
      "cell_type": "code",
      "metadata": {
        "id": "A5D_5QqzOAY1",
        "colab_type": "code",
        "colab": {}
      },
      "source": [
        "abs(dataSetFull['AA']).mean()"
      ],
      "execution_count": null,
      "outputs": []
    },
    {
      "cell_type": "code",
      "metadata": {
        "id": "c_dumELy17HO",
        "colab_type": "code",
        "colab": {}
      },
      "source": [
        "historysForGraph"
      ],
      "execution_count": null,
      "outputs": []
    },
    {
      "cell_type": "code",
      "metadata": {
        "id": "lAiQxlGIG-BD",
        "colab_type": "code",
        "colab": {}
      },
      "source": [
        "# График хода обучения\n",
        "def plot_history(history):\n",
        "  hist = pd.DataFrame(history/4)\n",
        "  hist['epoch'] = history.epoch\n",
        "\n",
        "  plt.figure()\n",
        "  plt.xlabel('Epoch')\n",
        "  plt.ylabel('Mean Abs Error')\n",
        "  plt.plot(hist['epoch'], hist['mae'],\n",
        "           label='Train Error')\n",
        "  plt.plot(hist['epoch'], hist['val_mae'],\n",
        "           label = 'Val Error')\n",
        "  plt.ylim([0, 0.2])\n",
        "  plt.legend()\n",
        "\n",
        "plot_history(historysForGraph)"
      ],
      "execution_count": null,
      "outputs": []
    },
    {
      "cell_type": "code",
      "metadata": {
        "id": "B_PeqDbPG946",
        "colab_type": "code",
        "colab": {}
      },
      "source": [
        "# Предсказание значений\n",
        "preds_test = model.predict(validationData.drop(['AA'], axis = 1, inplace = False)).flatten()\n",
        "# Просмотр прогноза\n",
        "predsData = model.predict(validationData.drop(['AA'], axis = 1, inplace = False))\n",
        "for i in range(20):\n",
        "  print(\"Предсказанный рост:\", round(predsData[i][0], 3), \", правильный рост:\", round(validationData[\"AA\"].values[i], 3))"
      ],
      "execution_count": null,
      "outputs": []
    },
    {
      "cell_type": "code",
      "metadata": {
        "id": "8ci-3PtJy5QI",
        "colab_type": "code",
        "colab": {}
      },
      "source": [
        ""
      ],
      "execution_count": null,
      "outputs": []
    },
    {
      "cell_type": "code",
      "metadata": {
        "id": "lRxGuqnxdjb_",
        "colab_type": "code",
        "colab": {}
      },
      "source": [
        "\n",
        "\n"
      ],
      "execution_count": null,
      "outputs": []
    },
    {
      "cell_type": "code",
      "metadata": {
        "id": "xfIX8atRAIrQ",
        "colab_type": "code",
        "colab": {}
      },
      "source": [
        "# Выборка данных. Разбивка на тренировочную, валидационную и тестовую выборки\n",
        "trainDataset, validationDataset, testDataset = np.split(dataSetFull, [int(.7*len(dataSetFull)), int(.85*len(dataSetFull))])\n",
        "# Подготовка данных выборок к использованию нейронной сетью\n",
        "trainInput = trainDataset.copy()\n",
        "del trainInput['AA']\n",
        "trainTarget = trainDataset['AA']\n",
        "validationInput = validationDataset.copy()\n",
        "del validationInput['AA']\n",
        "validationTarget = validationDataset['AA']\n",
        "testInput = testDataset.copy()\n",
        "testInput.drop(['AA'], axis=1, inplace=True)\n",
        "print(trainInput.shape)\n",
        "print(trainTarget.shape)\n",
        "print(validationInput.shape)\n",
        "print(validationTarget.shape)\n",
        "print(testInput.shape)"
      ],
      "execution_count": null,
      "outputs": []
    },
    {
      "cell_type": "code",
      "metadata": {
        "id": "JS1Myx-XAIeY",
        "colab_type": "code",
        "colab": {}
      },
      "source": [
        ""
      ],
      "execution_count": null,
      "outputs": []
    },
    {
      "cell_type": "code",
      "metadata": {
        "id": "BimjEBjFAINo",
        "colab_type": "code",
        "colab": {}
      },
      "source": [
        ""
      ],
      "execution_count": null,
      "outputs": []
    },
    {
      "cell_type": "code",
      "metadata": {
        "id": "bSoS7_kVAH3Y",
        "colab_type": "code",
        "colab": {}
      },
      "source": [
        ""
      ],
      "execution_count": null,
      "outputs": []
    },
    {
      "cell_type": "code",
      "metadata": {
        "id": "RVdZpTEcAHsQ",
        "colab_type": "code",
        "colab": {}
      },
      "source": [
        ""
      ],
      "execution_count": null,
      "outputs": []
    },
    {
      "cell_type": "code",
      "metadata": {
        "id": "IWEBFVjWAHcc",
        "colab_type": "code",
        "colab": {}
      },
      "source": [
        ""
      ],
      "execution_count": null,
      "outputs": []
    },
    {
      "cell_type": "code",
      "metadata": {
        "id": "p-S8wDEZLDtw",
        "colab_type": "code",
        "colab": {}
      },
      "source": [
        ""
      ],
      "execution_count": null,
      "outputs": []
    }
  ]
}